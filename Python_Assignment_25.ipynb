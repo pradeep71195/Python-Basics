{
  "nbformat": 4,
  "nbformat_minor": 0,
  "metadata": {
    "colab": {
      "provenance": [],
      "mount_file_id": "1z7wXOMgAz6A5-voilPI__CHu7L5pDws4",
      "authorship_tag": "ABX9TyNWzwEd54hFAdplXTHvpYLq",
      "include_colab_link": true
    },
    "kernelspec": {
      "name": "python3",
      "display_name": "Python 3"
    },
    "language_info": {
      "name": "python"
    }
  },
  "cells": [
    {
      "cell_type": "markdown",
      "metadata": {
        "id": "view-in-github",
        "colab_type": "text"
      },
      "source": [
        "<a href=\"https://colab.research.google.com/github/pradeep71195/Python-Basics/blob/main/Python_Assignment_25.ipynb\" target=\"_parent\"><img src=\"https://colab.research.google.com/assets/colab-badge.svg\" alt=\"Open In Colab\"/></a>"
      ]
    },
    {
      "cell_type": "markdown",
      "source": [
        "1) . What is the difference between enclosing a list comprehension in square brackets and parentheses?\n",
        "\n",
        "Answer:\n",
        "\n",
        "If a list is comprehended in a square bracket then it is a normal list, whereas if it is comprehended in parenthesis then it is generator.\n",
        "\n",
        "Generators behave like a normal function with the 2 differences,\n",
        "- Instead of return, the yield the output\n",
        "- It renders elements one-by-one"
      ],
      "metadata": {
        "id": "hQwKCRTBn_0n"
      }
    },
    {
      "cell_type": "code",
      "source": [
        "#List Comprehension\n",
        "sqrt = [i**2 for i in range(10)]\n",
        "print(sqrt)"
      ],
      "metadata": {
        "colab": {
          "base_uri": "https://localhost:8080/"
        },
        "id": "usz74z6PoAw2",
        "outputId": "99b488ab-ddea-487f-ed82-299302a74c66"
      },
      "execution_count": 1,
      "outputs": [
        {
          "output_type": "stream",
          "name": "stdout",
          "text": [
            "[0, 1, 4, 9, 16, 25, 36, 49, 64, 81]\n"
          ]
        }
      ]
    },
    {
      "cell_type": "code",
      "source": [
        "#Generator\n",
        "sqrt = (i**2 for i in range(10))\n",
        "print(sqrt)"
      ],
      "metadata": {
        "colab": {
          "base_uri": "https://localhost:8080/"
        },
        "id": "kJFfT1WwpvTD",
        "outputId": "d1f14124-6037-4fbf-ef05-30a0a6276ffe"
      },
      "execution_count": 12,
      "outputs": [
        {
          "output_type": "stream",
          "name": "stdout",
          "text": [
            "<generator object <genexpr> at 0x7af4b23bd8c0>\n"
          ]
        }
      ]
    },
    {
      "cell_type": "code",
      "source": [
        "for n in sqrt:\n",
        "  print(n)"
      ],
      "metadata": {
        "colab": {
          "base_uri": "https://localhost:8080/"
        },
        "id": "x3a8WNv0qGEw",
        "outputId": "59aa4eee-f3c0-4a0a-e31b-7bdbc3747742"
      },
      "execution_count": 13,
      "outputs": [
        {
          "output_type": "stream",
          "name": "stdout",
          "text": [
            "0\n",
            "1\n",
            "4\n",
            "9\n",
            "16\n",
            "25\n",
            "36\n",
            "49\n",
            "64\n",
            "81\n"
          ]
        }
      ]
    },
    {
      "cell_type": "markdown",
      "source": [
        "2) What is the relationship between generators and iterators?\n",
        "\n",
        "Answer:\n",
        "\n",
        "Iterator - An iterator is an object which contains a countable number of values and it is used to iterate over iterable objects like list, tuples, sets, etc.  Iterators are implemented using a class and a local variable for iterating is not required here.\n",
        "- iter() keyword is used to create an iterator containing an iterable object.\n",
        "- next() keyword is used to call the next element in the iterable object.\n",
        "\n",
        "Generator - It is another way of creating iterators in a simple way where it uses the keyword “yield” instead of returning it in a defined function. Generators are implemented using a function.  Here, the yield function returns the data without affecting or exiting the function. The next() function is used to go to the next iteration."
      ],
      "metadata": {
        "id": "O49ZtiAaqgAS"
      }
    },
    {
      "cell_type": "code",
      "source": [
        "#Example for Iterator - iter() and next() are used.\n",
        "\n",
        "iter_list = iter([\"Hello\", \"World!\", \"Python\"])\n",
        "print(next(iter_list))\n",
        "print(next(iter_list))\n",
        "\n",
        "print(next(iter_list))"
      ],
      "metadata": {
        "colab": {
          "base_uri": "https://localhost:8080/"
        },
        "id": "R5DZZy_oqUN_",
        "outputId": "dbae65b1-1431-4353-b087-637208799b78"
      },
      "execution_count": 15,
      "outputs": [
        {
          "output_type": "stream",
          "name": "stdout",
          "text": [
            "Hello\n",
            "World!\n",
            "Python\n"
          ]
        }
      ]
    },
    {
      "cell_type": "code",
      "source": [
        "#generator that yeilds square of numbers\n",
        "\n",
        "def sqrt_nums(n):\n",
        "  for i in range(1, n+1):\n",
        "    yield i**i\n",
        "\n",
        "num = sqrt_nums(3)\n",
        "\n",
        "print(\"Square root of numbers 1,2,3 are\")\n",
        "print(next(num))\n",
        "print(next(num))\n",
        "print(next(num))"
      ],
      "metadata": {
        "colab": {
          "base_uri": "https://localhost:8080/"
        },
        "id": "WNSmj6UBr_Fw",
        "outputId": "9408e6db-f428-4350-f806-e313afb2a24f"
      },
      "execution_count": 16,
      "outputs": [
        {
          "output_type": "stream",
          "name": "stdout",
          "text": [
            "Square root of numbers 1,2,3 are\n",
            "1\n",
            "4\n",
            "27\n"
          ]
        }
      ]
    },
    {
      "cell_type": "markdown",
      "source": [
        "3) What are the signs that a function is a generator function?\n",
        "\n",
        "Answer: If a function contains at least one yield statement (it may contain other yield or return statements), it becomes a generator function. Both yield and return will return some value from a function."
      ],
      "metadata": {
        "id": "Vz9ZeLrVs2go"
      }
    },
    {
      "cell_type": "markdown",
      "source": [
        "4) What is the purpose of a yield statement?\n",
        "\n",
        "Answer: A yield statement looks much like a return statement, except that instead of stopping execution of the function and\n",
        "returning, yield instead provides a value to the code looping over the generator and pauses execution of the generator function"
      ],
      "metadata": {
        "id": "v3-myJDntEIU"
      }
    },
    {
      "cell_type": "markdown",
      "source": [
        "5) What is the relationship between map calls and list comprehensions? Make a comparison and contrast between the two.\n",
        "\n",
        "Answer:\n",
        "\n",
        "Map function:\n",
        "\n",
        "Suppose we have a function and we want to compute this function for different values in a single line of code . This is where map() function plays its role. map() function returns a map object(which is an iterator) of the results after applying the given function to each item of a given iterable (list, tuple etc.)\n",
        "\n",
        "If we already have a function defined, it is often good to use map For example, map(sum, myLists) is more neat than [sum(x) for x in myLists]. You gain the elegance of not having to make up a dummy variable (e.g. sum(x) for x... or sum(_) for _... or sum(readableName) for readableName...) which you have to type twice, just to iterate.\n",
        "\n",
        "List Comprehension:\n",
        "\n",
        "List Comprehension is a substitute for the lambda function, map(), filter() and reduce()\n",
        "\n",
        "Comparision :\n",
        "\n",
        "- List comprehension is more concise and easier to read as compared to map\n",
        "- List comprehension allows filtering. In map, we have no such facility\n",
        "For example, to print all even numbers in range of 100, we can write [n for n in range(100) if n%2 == 0]. There is no alternate for it in map\n",
        "- List comprehension are used when a list of results is required, where as map only returns a map object and does not return any list.\n",
        "- List comprehension is faster than map when we need to evaluate expressions that are too long or complicated to express\n",
        "- Map is faster in case of calling an already defined function (as no lambda is required)"
      ],
      "metadata": {
        "id": "AEOLHCjstKr7"
      }
    },
    {
      "cell_type": "code",
      "source": [],
      "metadata": {
        "id": "jBYQLVjbskRI"
      },
      "execution_count": null,
      "outputs": []
    }
  ]
}