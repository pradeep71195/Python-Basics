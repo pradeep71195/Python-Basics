{
  "nbformat": 4,
  "nbformat_minor": 0,
  "metadata": {
    "colab": {
      "provenance": [],
      "mount_file_id": "1WFOKpojiq6qkWxqkM-dh4FceVHBBMVuL",
      "authorship_tag": "ABX9TyP41xiKLHP3U19WPb3H3gzG",
      "include_colab_link": true
    },
    "kernelspec": {
      "name": "python3",
      "display_name": "Python 3"
    },
    "language_info": {
      "name": "python"
    }
  },
  "cells": [
    {
      "cell_type": "markdown",
      "metadata": {
        "id": "view-in-github",
        "colab_type": "text"
      },
      "source": [
        "<a href=\"https://colab.research.google.com/github/pradeep71195/Python-Basics/blob/main/Python_Assignment_15.ipynb\" target=\"_parent\"><img src=\"https://colab.research.google.com/assets/colab-badge.svg\" alt=\"Open In Colab\"/></a>"
      ]
    },
    {
      "cell_type": "markdown",
      "source": [
        "1.How many seconds are in an hour? Use the interactive interpreter as a calculator and multiply the number of seconds in a minute (60) by the number of minutes in an hour (also 60)."
      ],
      "metadata": {
        "id": "CtwNzucLGbJh"
      }
    },
    {
      "cell_type": "code",
      "source": [
        "numOfSecInMin = 60\n",
        "numOfMinInHr = 60\n",
        "\n",
        "numOfSecInMin * numOfMinInHr"
      ],
      "metadata": {
        "colab": {
          "base_uri": "https://localhost:8080/"
        },
        "id": "_7oih9hkGcFX",
        "outputId": "b3167d2c-7379-4c27-d49a-b3d64a114c78"
      },
      "execution_count": 1,
      "outputs": [
        {
          "output_type": "execute_result",
          "data": {
            "text/plain": [
              "3600"
            ]
          },
          "metadata": {},
          "execution_count": 1
        }
      ]
    },
    {
      "cell_type": "code",
      "source": [
        "numOfSecInHr = numOfSecInMin * numOfMinInHr\n",
        "numOfSecInHr"
      ],
      "metadata": {
        "colab": {
          "base_uri": "https://localhost:8080/"
        },
        "id": "Wv66Ysr1Goel",
        "outputId": "ef2bfe09-f3f6-468c-eb54-43cd342ba117"
      },
      "execution_count": 3,
      "outputs": [
        {
          "output_type": "execute_result",
          "data": {
            "text/plain": [
              "3600"
            ]
          },
          "metadata": {},
          "execution_count": 3
        }
      ]
    },
    {
      "cell_type": "markdown",
      "source": [
        "3. How many seconds do you think there are in a day? Make use of the variables seconds per hour and minutes per hour."
      ],
      "metadata": {
        "id": "BrjTXpw0G7YK"
      }
    },
    {
      "cell_type": "code",
      "source": [
        "#For on hour there are 3600 seconds and there are 24 hours in a day\n",
        "\n",
        "numOfSecInADay = numOfSecInHr * 24\n",
        "numOfSecInADay"
      ],
      "metadata": {
        "colab": {
          "base_uri": "https://localhost:8080/"
        },
        "id": "otUlRocmG06I",
        "outputId": "4c4e5618-1ed0-40a1-de86-0f4c68a7be37"
      },
      "execution_count": 4,
      "outputs": [
        {
          "output_type": "execute_result",
          "data": {
            "text/plain": [
              "86400"
            ]
          },
          "metadata": {},
          "execution_count": 4
        }
      ]
    },
    {
      "cell_type": "markdown",
      "source": [
        "4. Calculate seconds per day again, but this time save the result in a variable called seconds_per_day"
      ],
      "metadata": {
        "id": "fYds5JSIHO4e"
      }
    },
    {
      "cell_type": "code",
      "source": [
        "seconds_per_day = numOfSecInHr * 24\n",
        "seconds_per_day"
      ],
      "metadata": {
        "colab": {
          "base_uri": "https://localhost:8080/"
        },
        "id": "OCZvWDfFHKbP",
        "outputId": "b5223ecf-cf5e-4ba7-e9fe-9df4481b7317"
      },
      "execution_count": 5,
      "outputs": [
        {
          "output_type": "execute_result",
          "data": {
            "text/plain": [
              "86400"
            ]
          },
          "metadata": {},
          "execution_count": 5
        }
      ]
    },
    {
      "cell_type": "markdown",
      "source": [
        "5. Divide seconds_per_day by seconds_per_hour. Use floating-point (/) division."
      ],
      "metadata": {
        "id": "GBeQotBKHXg4"
      }
    },
    {
      "cell_type": "code",
      "source": [
        "seconds_per_day / numOfSecInHr"
      ],
      "metadata": {
        "colab": {
          "base_uri": "https://localhost:8080/"
        },
        "id": "p7jOT6DyHU4_",
        "outputId": "76f93b89-038e-4d49-8f5e-fa4f09149e49"
      },
      "execution_count": 6,
      "outputs": [
        {
          "output_type": "execute_result",
          "data": {
            "text/plain": [
              "24.0"
            ]
          },
          "metadata": {},
          "execution_count": 6
        }
      ]
    },
    {
      "cell_type": "markdown",
      "source": [
        "6. Divide seconds_per_day by seconds_per_hour, using integer (//) division. Did this number agree with the floating-point value from the previous question, aside from the final .0?\n",
        "\n",
        "Answer: Yes, the value is same aside from the final .0"
      ],
      "metadata": {
        "id": "jbSD0_IRHnAP"
      }
    },
    {
      "cell_type": "code",
      "source": [
        "seconds_per_day // numOfSecInHr"
      ],
      "metadata": {
        "colab": {
          "base_uri": "https://localhost:8080/"
        },
        "id": "eFdeb77-HcHf",
        "outputId": "ea023c5b-b4b5-4cdd-bffb-e4e6a546e0c7"
      },
      "execution_count": 7,
      "outputs": [
        {
          "output_type": "execute_result",
          "data": {
            "text/plain": [
              "24"
            ]
          },
          "metadata": {},
          "execution_count": 7
        }
      ]
    },
    {
      "cell_type": "markdown",
      "source": [
        "7. Write a generator, genPrimes, that returns the sequence of prime numbers on successive calls to its next() method: 2, 3, 5, 7, 11, ..."
      ],
      "metadata": {
        "id": "j5ezZ8QXHyzi"
      }
    },
    {
      "cell_type": "code",
      "source": [
        "def primeNum():\n",
        "    n = 2\n",
        "    primeNums = []\n",
        "    while True:\n",
        "        for p in primeNums:\n",
        "            if n % p == 0:\n",
        "                break\n",
        "        else:\n",
        "            primeNums.append(n)\n",
        "            yield n\n",
        "        n += 1\n",
        "\n",
        "x= primeNum()\n",
        "print(next(x))\n",
        "print(next(x))\n",
        "print(next(x))\n",
        "print(next(x))"
      ],
      "metadata": {
        "colab": {
          "base_uri": "https://localhost:8080/"
        },
        "id": "L9Dfnv9vJeEG",
        "outputId": "49bab11d-dc30-4df3-c734-9ecbf6fbdd5f"
      },
      "execution_count": 36,
      "outputs": [
        {
          "output_type": "stream",
          "name": "stdout",
          "text": [
            "2\n",
            "3\n",
            "5\n",
            "7\n"
          ]
        }
      ]
    }
  ]
}