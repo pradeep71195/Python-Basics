{
  "nbformat": 4,
  "nbformat_minor": 0,
  "metadata": {
    "colab": {
      "provenance": [],
      "mount_file_id": "1z7wXOMgAz6A5-voilPI__CHu7L5pDws4",
      "authorship_tag": "ABX9TyPkqWu81a3DGc0uigSDNvdy",
      "include_colab_link": true
    },
    "kernelspec": {
      "name": "python3",
      "display_name": "Python 3"
    },
    "language_info": {
      "name": "python"
    }
  },
  "cells": [
    {
      "cell_type": "markdown",
      "metadata": {
        "id": "view-in-github",
        "colab_type": "text"
      },
      "source": [
        "<a href=\"https://colab.research.google.com/github/pradeep71195/Python-Basics/blob/main/Python_Assignment_19.ipynb\" target=\"_parent\"><img src=\"https://colab.research.google.com/assets/colab-badge.svg\" alt=\"Open In Colab\"/></a>"
      ]
    },
    {
      "cell_type": "markdown",
      "source": [
        "1. Make a class called Thing with no contents and print it. Then, create an object called example from this class and also print it. Are the printed values the same or different?\n",
        "\n",
        "Answer: The printed values are different."
      ],
      "metadata": {
        "id": "v_Ux6Tu-VoFi"
      }
    },
    {
      "cell_type": "code",
      "source": [
        "class Thing:\n",
        "  pass\n",
        "\n",
        "print(Thing)"
      ],
      "metadata": {
        "colab": {
          "base_uri": "https://localhost:8080/"
        },
        "id": "hf-6Vl49VpXj",
        "outputId": "dabcfd94-8e2c-45cb-8ba9-99e379ea3bf2"
      },
      "execution_count": 1,
      "outputs": [
        {
          "output_type": "stream",
          "name": "stdout",
          "text": [
            "<class '__main__.Thing'>\n"
          ]
        }
      ]
    },
    {
      "cell_type": "code",
      "source": [
        "example = Thing()\n",
        "print(example)"
      ],
      "metadata": {
        "colab": {
          "base_uri": "https://localhost:8080/"
        },
        "id": "spzRvqvBV3iU",
        "outputId": "f62da5e9-7965-485b-8a4a-1fe1122e09a2"
      },
      "execution_count": 2,
      "outputs": [
        {
          "output_type": "stream",
          "name": "stdout",
          "text": [
            "<__main__.Thing object at 0x7c58745136a0>\n"
          ]
        }
      ]
    },
    {
      "cell_type": "markdown",
      "source": [
        "2. Create a new class called Thing2 and add the value 'abc' to the letters class attribute. Letters should be printed."
      ],
      "metadata": {
        "id": "-g7lTL2LWH2V"
      }
    },
    {
      "cell_type": "code",
      "source": [
        "class Thing2:\n",
        "  letters = 'abc'\n",
        "\n",
        "Thing2.letters"
      ],
      "metadata": {
        "colab": {
          "base_uri": "https://localhost:8080/",
          "height": 35
        },
        "id": "NHOt1eJHV-KD",
        "outputId": "ee373009-f06d-4368-866f-ee1dc016cfcc"
      },
      "execution_count": 3,
      "outputs": [
        {
          "output_type": "execute_result",
          "data": {
            "text/plain": [
              "'abc'"
            ],
            "application/vnd.google.colaboratory.intrinsic+json": {
              "type": "string"
            }
          },
          "metadata": {},
          "execution_count": 3
        }
      ]
    },
    {
      "cell_type": "markdown",
      "source": [
        "3. Make yet another class called, of course, Thing3. This time, assign the value 'xyz' to an instance (object) attribute called letters. Print letters. Do you need to make an object from the class to do this?"
      ],
      "metadata": {
        "id": "KxPC1vpYWZC6"
      }
    },
    {
      "cell_type": "code",
      "source": [
        "class Thing3:\n",
        "  def __init__(self):\n",
        "    self.letters = 'xyz'\n",
        "\n",
        "thing = Thing3()\n",
        "print(thing.letters)"
      ],
      "metadata": {
        "colab": {
          "base_uri": "https://localhost:8080/"
        },
        "id": "LmDQRQAoWV5a",
        "outputId": "6de41948-5a54-4411-c510-b710c4fb16c0"
      },
      "execution_count": 4,
      "outputs": [
        {
          "output_type": "stream",
          "name": "stdout",
          "text": [
            "xyz\n"
          ]
        }
      ]
    },
    {
      "cell_type": "markdown",
      "source": [
        "4. Create an Element class with the instance attributes name, symbol, and number. Create a class object with the values 'Hydrogen,' 'H,' and 1."
      ],
      "metadata": {
        "id": "Ysg5nccjX2SJ"
      }
    },
    {
      "cell_type": "code",
      "source": [
        "class Element:\n",
        "  def __init__(self, name, symbol, number):\n",
        "    self.name = name\n",
        "    self.symbol = symbol\n",
        "    self.number = number\n",
        "\n",
        "    #print(self.name, self.symbol, self.number)\n",
        "\n",
        "elementObj = Element('Hydrogen', 'H', 1)"
      ],
      "metadata": {
        "colab": {
          "base_uri": "https://localhost:8080/"
        },
        "id": "C1G2yOw0XRFj",
        "outputId": "09d5401a-715f-4211-c1b7-1b89fe2b91c9"
      },
      "execution_count": 7,
      "outputs": [
        {
          "output_type": "stream",
          "name": "stdout",
          "text": [
            "Hydrogen H 1\n"
          ]
        }
      ]
    },
    {
      "cell_type": "markdown",
      "source": [
        "5. Make a dictionary with these keys and values: 'name': 'Hydrogen', 'symbol': 'H', 'number': 1. Then, create an object called hydrogen from class Element using this dictionary."
      ],
      "metadata": {
        "id": "s_YpIiGdY4RJ"
      }
    },
    {
      "cell_type": "code",
      "source": [
        "dict1 = {\n",
        "    'name': 'Hydrogen',\n",
        "    'symbol': 'H',\n",
        "    'number':1\n",
        "}\n",
        "\n",
        "hydrogen = Element(dict1['name'], dict1['symbol'], dict1['number'])\n",
        "hydrogen.symbol"
      ],
      "metadata": {
        "colab": {
          "base_uri": "https://localhost:8080/",
          "height": 53
        },
        "id": "laOfvAz8Yac0",
        "outputId": "63b408d1-7da8-40c4-bd62-13570dd73c22"
      },
      "execution_count": 22,
      "outputs": [
        {
          "output_type": "stream",
          "name": "stdout",
          "text": [
            "Hydrogen H 1\n"
          ]
        },
        {
          "output_type": "execute_result",
          "data": {
            "text/plain": [
              "'H'"
            ],
            "application/vnd.google.colaboratory.intrinsic+json": {
              "type": "string"
            }
          },
          "metadata": {},
          "execution_count": 22
        }
      ]
    },
    {
      "cell_type": "markdown",
      "source": [
        "6. For the Element class, define a method called dump() that prints the values of the object’s attributes (name, symbol, and number). Create the hydrogen object from this new definition and use dump() to print its attributes."
      ],
      "metadata": {
        "id": "iE2cUGNbIWNL"
      }
    },
    {
      "cell_type": "code",
      "source": [
        "class Element:\n",
        "  def __init__(self, name, symbol, number):\n",
        "    self.name = name\n",
        "    self.symbol = symbol\n",
        "    self.number = number\n",
        "\n",
        "  def dump(self):\n",
        "    print(f\"Name - {self.name}, Symbol - {self.symbol}, Number - {self.number}\")\n",
        "\n",
        "hydrogen = Element(\"Hydrogen\", \"H\", 1)\n",
        "hydrogen.dump()"
      ],
      "metadata": {
        "colab": {
          "base_uri": "https://localhost:8080/"
        },
        "id": "nJA-mVA2EsMJ",
        "outputId": "6ab48726-7f50-4ae6-ecb1-8f0aab300fb1"
      },
      "execution_count": 30,
      "outputs": [
        {
          "output_type": "stream",
          "name": "stdout",
          "text": [
            "Name - Hydrogen, Symbol - H, Number - 1\n"
          ]
        }
      ]
    },
    {
      "cell_type": "markdown",
      "source": [
        "7. Call print(hydrogen). In the definition of Element, change the name of method dump to __str__, create a new hydrogen object, and call print(hydrogen) again."
      ],
      "metadata": {
        "id": "9M6_zqC2JHu7"
      }
    },
    {
      "cell_type": "code",
      "source": [
        "print(hydrogen)\n",
        "\n",
        "class Element:\n",
        "  def __init__(self, name, symbol, number):\n",
        "    self.name = name\n",
        "    self.symbol = symbol\n",
        "    self.number = number\n",
        "\n",
        "  def __str__(self):\n",
        "    return (f\"Name - {self.name}, Symbol - {self.symbol}, Number - {self.number}\")\n",
        "\n",
        "hydrogen = Element(\"Hydrogen\", \"H\", 1)\n",
        "print(hydrogen)"
      ],
      "metadata": {
        "colab": {
          "base_uri": "https://localhost:8080/"
        },
        "id": "muLVKcL6JOGR",
        "outputId": "1d8a48ab-4f45-40c4-8396-414a9c3c089c"
      },
      "execution_count": 31,
      "outputs": [
        {
          "output_type": "stream",
          "name": "stdout",
          "text": [
            "<__main__.Element object at 0x7c5843ef0850>\n",
            "Name - Hydrogen, Symbol - H, Number - 1\n"
          ]
        }
      ]
    },
    {
      "cell_type": "markdown",
      "source": [
        "8. Modify Element to make the attributes name, symbol, and number private. Define a getter property for each to return its value."
      ],
      "metadata": {
        "id": "0A2aUbT5Jz-K"
      }
    },
    {
      "cell_type": "code",
      "source": [
        "class Element:\n",
        "  def __init__(self, name, symbol, number):\n",
        "    self.__name = name\n",
        "    self.__symbol = symbol\n",
        "    self.__number = number\n",
        "\n",
        "  @property\n",
        "  def name(self):\n",
        "    return self.__name\n",
        "\n",
        "  @property\n",
        "  def symbol(self):\n",
        "    return self.__symbol\n",
        "\n",
        "  @property\n",
        "  def number(self):\n",
        "    return self.__number\n",
        "\n",
        "hydrogen = Element(\"Hydrogen\", \"H\", 1)\n",
        "print(hydrogen.name)\n",
        "print(hydrogen.symbol)\n",
        "print(hydrogen.number)"
      ],
      "metadata": {
        "colab": {
          "base_uri": "https://localhost:8080/"
        },
        "id": "pBLbmIoTJiOK",
        "outputId": "d48566e8-fa91-4bf2-89d2-21ad13a53641"
      },
      "execution_count": 35,
      "outputs": [
        {
          "output_type": "stream",
          "name": "stdout",
          "text": [
            "Hydrogen\n",
            "H\n",
            "1\n"
          ]
        }
      ]
    },
    {
      "cell_type": "markdown",
      "source": [
        "9. Define three classes: Bear, Rabbit, and Octothorpe. For each, define only one method: eats(). This should return 'berries' (Bear), 'clover' (Rabbit), or 'campers' (Octothorpe). Create one object from each and print what it eats."
      ],
      "metadata": {
        "id": "nbwglIgyLM91"
      }
    },
    {
      "cell_type": "code",
      "source": [
        "class Bear:\n",
        "  def eats(self):\n",
        "    return 'berries'\n",
        "\n",
        "class Rabbit:\n",
        "  def eats(self):\n",
        "    return 'clover'\n",
        "\n",
        "class Octothorpe:\n",
        "  def eats(self):\n",
        "    return 'campers'\n",
        "\n",
        "bear = Bear()\n",
        "rabbit = Rabbit()\n",
        "octo = Octothorpe()\n",
        "\n",
        "print(\"Bear eats\",bear.eats())\n",
        "print(\"Rabbit eats\",rabbit.eats())\n",
        "print(\"Octothrope eats\", octo.eats())"
      ],
      "metadata": {
        "colab": {
          "base_uri": "https://localhost:8080/"
        },
        "id": "cu-2KMHgLCQp",
        "outputId": "05091204-b4a1-4439-c599-57eeb51b26d4"
      },
      "execution_count": 41,
      "outputs": [
        {
          "output_type": "stream",
          "name": "stdout",
          "text": [
            "Bear eats berries\n",
            "Rabbit eats clover\n",
            "Octothrope eats campers\n"
          ]
        }
      ]
    },
    {
      "cell_type": "markdown",
      "source": [
        "10. Define these classes: Laser, Claw, and SmartPhone. Each has only one method: does(). This returns 'disintegrate' (Laser), 'crush' (Claw), or 'ring' (SmartPhone). Then, define the class Robot that has one instance (object) of each of these. Define a does() method for the Robot that prints what its component objects do."
      ],
      "metadata": {
        "id": "92oGYwA3MOwK"
      }
    },
    {
      "cell_type": "code",
      "source": [
        "class Laser:\n",
        "  def does(self):\n",
        "    return 'disintegrate'\n",
        "\n",
        "class Claw:\n",
        "  def does(self):\n",
        "    return 'crush'\n",
        "\n",
        "class SmartPhone:\n",
        "  def does(self):\n",
        "    return 'ring'\n",
        "\n",
        "class Robot:\n",
        "  def __init__(self):\n",
        "    self.laser = Laser()\n",
        "    self.claw = Claw()\n",
        "    self.smartPhone = SmartPhone()\n",
        "\n",
        "  def does(self):\n",
        "    laser = self.laser.does()\n",
        "    claw = self.claw.does()\n",
        "    smartPhone = self.smartPhone.does()\n",
        "\n",
        "    return f'Laser - {laser}, Claw - {claw} and SmartPhone - {smartPhone}'\n",
        "\n",
        "robot = Robot()\n",
        "result = robot.does()\n",
        "print(result)"
      ],
      "metadata": {
        "colab": {
          "base_uri": "https://localhost:8080/"
        },
        "id": "tfVAkKM9Lv1z",
        "outputId": "710993be-5815-4ca5-da61-b397e7bee4e6"
      },
      "execution_count": 43,
      "outputs": [
        {
          "output_type": "stream",
          "name": "stdout",
          "text": [
            "Laser - disintegrate, Claw - crush and SmartPhone - ring\n"
          ]
        }
      ]
    }
  ]
}