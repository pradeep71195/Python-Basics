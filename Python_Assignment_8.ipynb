{
  "nbformat": 4,
  "nbformat_minor": 0,
  "metadata": {
    "colab": {
      "provenance": [],
      "authorship_tag": "ABX9TyMSLLnNfMIUNlOoFD5FEvGE",
      "include_colab_link": true
    },
    "kernelspec": {
      "name": "python3",
      "display_name": "Python 3"
    },
    "language_info": {
      "name": "python"
    }
  },
  "cells": [
    {
      "cell_type": "markdown",
      "metadata": {
        "id": "view-in-github",
        "colab_type": "text"
      },
      "source": [
        "<a href=\"https://colab.research.google.com/github/pradeep71195/Python-Basics/blob/main/Python_Assignment_8.ipynb\" target=\"_parent\"><img src=\"https://colab.research.google.com/assets/colab-badge.svg\" alt=\"Open In Colab\"/></a>"
      ]
    },
    {
      "cell_type": "markdown",
      "source": [
        "1. Is the Python Standard Library included with PyInputPlus?\n",
        "\n",
        "Ans: No, it is not a part of the Python Standard Library."
      ],
      "metadata": {
        "id": "d2gp3RbQjUEM"
      }
    },
    {
      "cell_type": "code",
      "execution_count": 1,
      "metadata": {
        "colab": {
          "base_uri": "https://localhost:8080/"
        },
        "id": "Gw4hkz5eiyXR",
        "outputId": "da3d3198-3aac-4d1e-ea0b-970c39f9f5ba"
      },
      "outputs": [
        {
          "output_type": "stream",
          "name": "stdout",
          "text": [
            "Collecting PyInputPlus\n",
            "  Downloading PyInputPlus-0.2.12.tar.gz (20 kB)\n",
            "  Installing build dependencies ... \u001b[?25l\u001b[?25hdone\n",
            "  Getting requirements to build wheel ... \u001b[?25l\u001b[?25hdone\n",
            "  Preparing metadata (pyproject.toml) ... \u001b[?25l\u001b[?25hdone\n",
            "Collecting pysimplevalidate>=0.2.7 (from PyInputPlus)\n",
            "  Downloading PySimpleValidate-0.2.12.tar.gz (22 kB)\n",
            "  Installing build dependencies ... \u001b[?25l\u001b[?25hdone\n",
            "  Getting requirements to build wheel ... \u001b[?25l\u001b[?25hdone\n",
            "  Preparing metadata (pyproject.toml) ... \u001b[?25l\u001b[?25hdone\n",
            "Collecting stdiomask>=0.0.3 (from PyInputPlus)\n",
            "  Downloading stdiomask-0.0.6.tar.gz (3.6 kB)\n",
            "  Installing build dependencies ... \u001b[?25l\u001b[?25hdone\n",
            "  Getting requirements to build wheel ... \u001b[?25l\u001b[?25hdone\n",
            "  Preparing metadata (pyproject.toml) ... \u001b[?25l\u001b[?25hdone\n",
            "Building wheels for collected packages: PyInputPlus, pysimplevalidate, stdiomask\n",
            "  Building wheel for PyInputPlus (pyproject.toml) ... \u001b[?25l\u001b[?25hdone\n",
            "  Created wheel for PyInputPlus: filename=PyInputPlus-0.2.12-py3-none-any.whl size=11295 sha256=763fd96f94beced6a81e338ace6bc568ea0811c70d6f96fb8b4b2ffbcbc7158f\n",
            "  Stored in directory: /root/.cache/pip/wheels/13/ec/a5/f780c8008b74e885aada43369ebf4d350edfd12bb5909ccb23\n",
            "  Building wheel for pysimplevalidate (pyproject.toml) ... \u001b[?25l\u001b[?25hdone\n",
            "  Created wheel for pysimplevalidate: filename=PySimpleValidate-0.2.12-py3-none-any.whl size=16177 sha256=0c61a3aab13fec0b941e0b25985e794722ab9e6b1f657908d9250be39a331b5a\n",
            "  Stored in directory: /root/.cache/pip/wheels/64/29/c9/2ee861e5b0775e289013b7c7157e0bdcea3a1b844f835b2eb8\n",
            "  Building wheel for stdiomask (pyproject.toml) ... \u001b[?25l\u001b[?25hdone\n",
            "  Created wheel for stdiomask: filename=stdiomask-0.0.6-py3-none-any.whl size=3306 sha256=81958367beb9b9b3e00cedb4293126123db4b04020de9f5212c6d9b68fd9083d\n",
            "  Stored in directory: /root/.cache/pip/wheels/6c/00/4b/0715696f101d7376f67a83cf3d545feb8c241eeee75b80bb6f\n",
            "Successfully built PyInputPlus pysimplevalidate stdiomask\n",
            "Installing collected packages: stdiomask, pysimplevalidate, PyInputPlus\n",
            "Successfully installed PyInputPlus-0.2.12 pysimplevalidate-0.2.12 stdiomask-0.0.6\n"
          ]
        }
      ],
      "source": [
        "!pip install PyInputPlus"
      ]
    },
    {
      "cell_type": "markdown",
      "source": [
        "2. Why is PyInputPlus commonly imported with import pyinputplus as pypi?\n",
        "\n",
        "Answer:\tThe pypi is an alias for PyInputPlus and can be used to call the functions inside PyInputPlus"
      ],
      "metadata": {
        "id": "MqIJV_M9lvIb"
      }
    },
    {
      "cell_type": "code",
      "source": [
        "import pyinputplus as pyip"
      ],
      "metadata": {
        "id": "EQlo1DoUorPE"
      },
      "execution_count": 2,
      "outputs": []
    },
    {
      "cell_type": "markdown",
      "source": [
        "3. How do you distinguish between inputInt() and inputFloat()?\n",
        "\n",
        "Answer:\n",
        "\n",
        "  inputInt() – accepts only integer values and returns integer values\n",
        "\n",
        "  inputFloat() – accepts both integer values and floating values and returns floating values\n"
      ],
      "metadata": {
        "id": "SWKAtSrtmlmz"
      }
    },
    {
      "cell_type": "code",
      "source": [
        "intInput = pyip.inputInt()\n",
        "print(\"Int input - \", intInput)\n",
        "floatInput = pyip.inputFloat()\n",
        "print(\"Float input - \",floatInput)"
      ],
      "metadata": {
        "colab": {
          "base_uri": "https://localhost:8080/"
        },
        "id": "9_oGX_COm92-",
        "outputId": "7aca6290-d300-4196-d905-9c18944360f7"
      },
      "execution_count": 3,
      "outputs": [
        {
          "output_type": "stream",
          "name": "stdout",
          "text": [
            "5.2\n",
            "'5.2' is not an integer.\n",
            "5\n",
            "Int input -  5\n",
            "7\n",
            "Float input -  7.0\n"
          ]
        }
      ]
    },
    {
      "cell_type": "markdown",
      "source": [
        "4. Using PyInputPlus, how do you ensure that the user enters a whole number between 0 and 99?\n",
        "\n",
        "Answer:\n",
        "\tTo ensure whole number between 0 and 99, we need to use min & max parameters.\n"
      ],
      "metadata": {
        "id": "Fl_-VvsHpFYc"
      }
    },
    {
      "cell_type": "code",
      "source": [
        "pyip.inputInt(min= 0, max= 99)"
      ],
      "metadata": {
        "colab": {
          "base_uri": "https://localhost:8080/"
        },
        "id": "udWnLywon15c",
        "outputId": "4c125a9f-ec0f-47cb-9329-f0eae6633ef5"
      },
      "execution_count": 4,
      "outputs": [
        {
          "name": "stdout",
          "output_type": "stream",
          "text": [
            "152\n",
            "Number must be at maximum 99.\n",
            "-2\n",
            "Number must be at minimum 0.\n",
            "70\n"
          ]
        },
        {
          "output_type": "execute_result",
          "data": {
            "text/plain": [
              "70"
            ]
          },
          "metadata": {},
          "execution_count": 4
        }
      ]
    },
    {
      "cell_type": "markdown",
      "source": [
        "5. What is transferred to the keyword arguments allowRegexes and blockRegexes?\n",
        "\n",
        "Answer:\n",
        "\tWe can specify the user input to be in a certain pattern using regex while the user enters the input. The arguments allowRegexes and blockRegexes takes a list of regular expression string to decide whether to allow or deny as valid input.\n"
      ],
      "metadata": {
        "id": "SAQiKX2k4f0D"
      }
    },
    {
      "cell_type": "code",
      "source": [
        "#Allows an input number 0 or 1 and blocks other numbers\n",
        "result = pyip.inputStr(allowRegexes=[r'0','1'], blockRegexes=[r'[2-9]'])\n",
        "result"
      ],
      "metadata": {
        "colab": {
          "base_uri": "https://localhost:8080/",
          "height": 122
        },
        "id": "f5SESWdMpYKn",
        "outputId": "3043fda1-b2be-429f-d71b-418727595730"
      },
      "execution_count": 21,
      "outputs": [
        {
          "name": "stdout",
          "output_type": "stream",
          "text": [
            "9\n",
            "This response is invalid.\n",
            "6\n",
            "This response is invalid.\n",
            "1\n"
          ]
        },
        {
          "output_type": "execute_result",
          "data": {
            "text/plain": [
              "'1'"
            ],
            "application/vnd.google.colaboratory.intrinsic+json": {
              "type": "string"
            }
          },
          "metadata": {},
          "execution_count": 21
        }
      ]
    },
    {
      "cell_type": "markdown",
      "source": [
        "6. If a blank input is entered three times, what does inputStr(limit=3) do?\n",
        "\n",
        "Answer:\n",
        "\tException – RetryLimitException is thrown."
      ],
      "metadata": {
        "id": "iCvvBZaiM3Dt"
      }
    },
    {
      "cell_type": "code",
      "source": [
        "pyip.inputStr(limit=3)"
      ],
      "metadata": {
        "colab": {
          "base_uri": "https://localhost:8080/",
          "height": 581
        },
        "id": "LF8uT-wSKeDm",
        "outputId": "d5cf1f65-aa4c-4892-a8e0-48d1bb3057e7"
      },
      "execution_count": 22,
      "outputs": [
        {
          "output_type": "stream",
          "name": "stdout",
          "text": [
            "\n",
            "Blank values are not allowed.\n",
            "\n",
            "Blank values are not allowed.\n",
            "\n",
            "Blank values are not allowed.\n"
          ]
        },
        {
          "output_type": "error",
          "ename": "RetryLimitException",
          "evalue": "ignored",
          "traceback": [
            "\u001b[0;31m---------------------------------------------------------------------------\u001b[0m",
            "\u001b[0;31mValidationException\u001b[0m                       Traceback (most recent call last)",
            "\u001b[0;32m/usr/local/lib/python3.10/dist-packages/pyinputplus/__init__.py\u001b[0m in \u001b[0;36m_genericInput\u001b[0;34m(prompt, default, timeout, limit, applyFunc, validationFunc, postValidateApplyFunc, passwordMask)\u001b[0m\n\u001b[1;32m    166\u001b[0m         \u001b[0;32mtry\u001b[0m\u001b[0;34m:\u001b[0m\u001b[0;34m\u001b[0m\u001b[0;34m\u001b[0m\u001b[0m\n\u001b[0;32m--> 167\u001b[0;31m             possibleNewUserInput = validationFunc(\n\u001b[0m\u001b[1;32m    168\u001b[0m                 \u001b[0muserInput\u001b[0m\u001b[0;34m\u001b[0m\u001b[0;34m\u001b[0m\u001b[0m\n",
            "\u001b[0;32m/usr/local/lib/python3.10/dist-packages/pyinputplus/__init__.py\u001b[0m in \u001b[0;36m<lambda>\u001b[0;34m(value)\u001b[0m\n\u001b[1;32m    242\u001b[0m \u001b[0;34m\u001b[0m\u001b[0m\n\u001b[0;32m--> 243\u001b[0;31m     validationFunc = lambda value: pysv._prevalidationCheck(\n\u001b[0m\u001b[1;32m    244\u001b[0m         \u001b[0mvalue\u001b[0m\u001b[0;34m,\u001b[0m \u001b[0mblank\u001b[0m\u001b[0;34m=\u001b[0m\u001b[0mblank\u001b[0m\u001b[0;34m,\u001b[0m \u001b[0mstrip\u001b[0m\u001b[0;34m=\u001b[0m\u001b[0mstrip\u001b[0m\u001b[0;34m,\u001b[0m \u001b[0mallowRegexes\u001b[0m\u001b[0;34m=\u001b[0m\u001b[0mallowRegexes\u001b[0m\u001b[0;34m,\u001b[0m \u001b[0mblockRegexes\u001b[0m\u001b[0;34m=\u001b[0m\u001b[0mblockRegexes\u001b[0m\u001b[0;34m,\u001b[0m \u001b[0mexcMsg\u001b[0m\u001b[0;34m=\u001b[0m\u001b[0;32mNone\u001b[0m\u001b[0;34m,\u001b[0m\u001b[0;34m\u001b[0m\u001b[0;34m\u001b[0m\u001b[0m\n",
            "\u001b[0;32m/usr/local/lib/python3.10/dist-packages/pysimplevalidate/__init__.py\u001b[0m in \u001b[0;36m_prevalidationCheck\u001b[0;34m(value, blank, strip, allowRegexes, blockRegexes, excMsg)\u001b[0m\n\u001b[1;32m    249\u001b[0m         \u001b[0;31m# value is blank but blanks aren't allowed.\u001b[0m\u001b[0;34m\u001b[0m\u001b[0;34m\u001b[0m\u001b[0m\n\u001b[0;32m--> 250\u001b[0;31m         \u001b[0m_raiseValidationException\u001b[0m\u001b[0;34m(\u001b[0m\u001b[0m_\u001b[0m\u001b[0;34m(\u001b[0m\u001b[0;34m\"Blank values are not allowed.\"\u001b[0m\u001b[0;34m)\u001b[0m\u001b[0;34m,\u001b[0m \u001b[0mexcMsg\u001b[0m\u001b[0;34m)\u001b[0m\u001b[0;34m\u001b[0m\u001b[0;34m\u001b[0m\u001b[0m\n\u001b[0m\u001b[1;32m    251\u001b[0m     \u001b[0;32melif\u001b[0m \u001b[0mblank\u001b[0m \u001b[0;32mand\u001b[0m \u001b[0mvalue\u001b[0m \u001b[0;34m==\u001b[0m \u001b[0;34m\"\"\u001b[0m\u001b[0;34m:\u001b[0m\u001b[0;34m\u001b[0m\u001b[0;34m\u001b[0m\u001b[0m\n",
            "\u001b[0;32m/usr/local/lib/python3.10/dist-packages/pysimplevalidate/__init__.py\u001b[0m in \u001b[0;36m_raiseValidationException\u001b[0;34m(standardExcMsg, customExcMsg)\u001b[0m\n\u001b[1;32m    221\u001b[0m     \u001b[0;32mif\u001b[0m \u001b[0mcustomExcMsg\u001b[0m \u001b[0;32mis\u001b[0m \u001b[0;32mNone\u001b[0m\u001b[0;34m:\u001b[0m\u001b[0;34m\u001b[0m\u001b[0;34m\u001b[0m\u001b[0m\n\u001b[0;32m--> 222\u001b[0;31m         \u001b[0;32mraise\u001b[0m \u001b[0mValidationException\u001b[0m\u001b[0;34m(\u001b[0m\u001b[0mstr\u001b[0m\u001b[0;34m(\u001b[0m\u001b[0mstandardExcMsg\u001b[0m\u001b[0;34m)\u001b[0m\u001b[0;34m)\u001b[0m\u001b[0;34m\u001b[0m\u001b[0;34m\u001b[0m\u001b[0m\n\u001b[0m\u001b[1;32m    223\u001b[0m     \u001b[0;32melse\u001b[0m\u001b[0;34m:\u001b[0m\u001b[0;34m\u001b[0m\u001b[0;34m\u001b[0m\u001b[0m\n",
            "\u001b[0;31mValidationException\u001b[0m: Blank values are not allowed.",
            "\nDuring handling of the above exception, another exception occurred:\n",
            "\u001b[0;31mRetryLimitException\u001b[0m                       Traceback (most recent call last)",
            "\u001b[0;32m<ipython-input-22-1fca613d6476>\u001b[0m in \u001b[0;36m<cell line: 1>\u001b[0;34m()\u001b[0m\n\u001b[0;32m----> 1\u001b[0;31m \u001b[0mpyip\u001b[0m\u001b[0;34m.\u001b[0m\u001b[0minputStr\u001b[0m\u001b[0;34m(\u001b[0m\u001b[0mlimit\u001b[0m\u001b[0;34m=\u001b[0m\u001b[0;36m3\u001b[0m\u001b[0;34m)\u001b[0m\u001b[0;34m\u001b[0m\u001b[0;34m\u001b[0m\u001b[0m\n\u001b[0m",
            "\u001b[0;32m/usr/local/lib/python3.10/dist-packages/pyinputplus/__init__.py\u001b[0m in \u001b[0;36minputStr\u001b[0;34m(prompt, default, blank, timeout, limit, strip, allowRegexes, blockRegexes, applyFunc, postValidateApplyFunc)\u001b[0m\n\u001b[1;32m    245\u001b[0m     )[1]\n\u001b[1;32m    246\u001b[0m \u001b[0;34m\u001b[0m\u001b[0m\n\u001b[0;32m--> 247\u001b[0;31m     return _genericInput(\n\u001b[0m\u001b[1;32m    248\u001b[0m         \u001b[0mprompt\u001b[0m\u001b[0;34m=\u001b[0m\u001b[0mprompt\u001b[0m\u001b[0;34m,\u001b[0m\u001b[0;34m\u001b[0m\u001b[0;34m\u001b[0m\u001b[0m\n\u001b[1;32m    249\u001b[0m         \u001b[0mdefault\u001b[0m\u001b[0;34m=\u001b[0m\u001b[0mdefault\u001b[0m\u001b[0;34m,\u001b[0m\u001b[0;34m\u001b[0m\u001b[0;34m\u001b[0m\u001b[0m\n",
            "\u001b[0;32m/usr/local/lib/python3.10/dist-packages/pyinputplus/__init__.py\u001b[0m in \u001b[0;36m_genericInput\u001b[0;34m(prompt, default, timeout, limit, applyFunc, validationFunc, postValidateApplyFunc, passwordMask)\u001b[0m\n\u001b[1;32m    186\u001b[0m                 \u001b[0;32melse\u001b[0m\u001b[0;34m:\u001b[0m\u001b[0;34m\u001b[0m\u001b[0;34m\u001b[0m\u001b[0m\n\u001b[1;32m    187\u001b[0m                     \u001b[0;31m# If there is no default, then raise the timeout/limit exception.\u001b[0m\u001b[0;34m\u001b[0m\u001b[0;34m\u001b[0m\u001b[0m\n\u001b[0;32m--> 188\u001b[0;31m                     \u001b[0;32mraise\u001b[0m \u001b[0mlimitOrTimeoutException\u001b[0m\u001b[0;34m\u001b[0m\u001b[0;34m\u001b[0m\u001b[0m\n\u001b[0m\u001b[1;32m    189\u001b[0m             \u001b[0;32melse\u001b[0m\u001b[0;34m:\u001b[0m\u001b[0;34m\u001b[0m\u001b[0;34m\u001b[0m\u001b[0m\n\u001b[1;32m    190\u001b[0m                 \u001b[0;31m# If there was no timeout/limit exceeded, let the user enter input again.\u001b[0m\u001b[0;34m\u001b[0m\u001b[0;34m\u001b[0m\u001b[0m\n",
            "\u001b[0;31mRetryLimitException\u001b[0m: "
          ]
        }
      ]
    },
    {
      "cell_type": "markdown",
      "source": [
        "7. If blank input is entered three times, what does inputStr(limit=3, default='hello') do?\n",
        "\n",
        "Answer:\n",
        "\t‘hello’ will be printed instead of RetryLimitException exception being thrown."
      ],
      "metadata": {
        "id": "c-bDXg9cM-CQ"
      }
    },
    {
      "cell_type": "code",
      "source": [
        "pyip.inputStr(limit=3, default='hello')"
      ],
      "metadata": {
        "colab": {
          "base_uri": "https://localhost:8080/",
          "height": 140
        },
        "id": "6lHHaPCaMwAd",
        "outputId": "8fcc77f6-2e90-4600-d09d-3888a5a09ad6"
      },
      "execution_count": 23,
      "outputs": [
        {
          "output_type": "stream",
          "name": "stdout",
          "text": [
            "\n",
            "Blank values are not allowed.\n",
            "\n",
            "Blank values are not allowed.\n",
            "\n",
            "Blank values are not allowed.\n"
          ]
        },
        {
          "output_type": "execute_result",
          "data": {
            "text/plain": [
              "'hello'"
            ],
            "application/vnd.google.colaboratory.intrinsic+json": {
              "type": "string"
            }
          },
          "metadata": {},
          "execution_count": 23
        }
      ]
    }
  ]
}