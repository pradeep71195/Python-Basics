{
  "nbformat": 4,
  "nbformat_minor": 0,
  "metadata": {
    "colab": {
      "provenance": [],
      "mount_file_id": "1z7wXOMgAz6A5-voilPI__CHu7L5pDws4",
      "authorship_tag": "ABX9TyPXSfU3P3CDzJhpRdovhMTa",
      "include_colab_link": true
    },
    "kernelspec": {
      "name": "python3",
      "display_name": "Python 3"
    },
    "language_info": {
      "name": "python"
    }
  },
  "cells": [
    {
      "cell_type": "markdown",
      "metadata": {
        "id": "view-in-github",
        "colab_type": "text"
      },
      "source": [
        "<a href=\"https://colab.research.google.com/github/pradeep71195/Python-Basics/blob/main/Python_Assignment_20.ipynb\" target=\"_parent\"><img src=\"https://colab.research.google.com/assets/colab-badge.svg\" alt=\"Open In Colab\"/></a>"
      ]
    },
    {
      "cell_type": "markdown",
      "source": [
        "1. Set the variable test1 to the string 'This is a test of the emergency text system,' and save test1 to a file named test.txt."
      ],
      "metadata": {
        "id": "-sqn9kWov7xv"
      }
    },
    {
      "cell_type": "code",
      "source": [
        "test1 = \"This is a test of the emergency text system\"\n",
        "file1 = open(\"test.txt\", \"w\")\n",
        "file1.write(test1)\n",
        "file1.close()"
      ],
      "metadata": {
        "id": "GUMvp9rAv8Te"
      },
      "execution_count": 1,
      "outputs": []
    },
    {
      "cell_type": "markdown",
      "source": [
        "2. Read the contents of the file test.txt into the variable test2. Is there a difference between test 1 and test 2?\n",
        "\n",
        "Answer: There are difference between test1 and test2"
      ],
      "metadata": {
        "id": "zi7siCBrxIcv"
      }
    },
    {
      "cell_type": "code",
      "source": [
        "file1 = open(\"test.txt\", \"r\")\n",
        "test2 = file1.read()\n",
        "file1.close()\n",
        "print(test2)\n",
        "print(test1)"
      ],
      "metadata": {
        "colab": {
          "base_uri": "https://localhost:8080/"
        },
        "id": "Pa2QjB_KxAb5",
        "outputId": "c19fd5cb-294b-4608-9d27-d0dd550272af"
      },
      "execution_count": 4,
      "outputs": [
        {
          "output_type": "stream",
          "name": "stdout",
          "text": [
            "This is a test of the emergency text system\n",
            "This is a test of the emergency text system\n"
          ]
        }
      ]
    },
    {
      "cell_type": "markdown",
      "source": [
        "3. Create a CSV file called books.csv by using these lines:\n",
        "\n",
        "title,author,year\n",
        "\n",
        "The Weirdstone of Brisingamen,Alan Garner,1960\n",
        "\n",
        "Perdido Street Station,China Miéville,2000\n",
        "\n",
        "Thud!,Terry Pratchett,2005\n",
        "\n",
        "The Spellman Files,Lisa Lutz,2007\n",
        "\n",
        "Small Gods,Terry Pratchett,1992\n"
      ],
      "metadata": {
        "id": "8uvJQRzAxor_"
      }
    },
    {
      "cell_type": "code",
      "source": [
        "import csv\n",
        "\n",
        "head = ['title', 'author', 'year']\n",
        "\n",
        "rows = [\n",
        "    ['The Weirdstone of Brisingamen','Alan Garner',1960],\n",
        "    ['Perdido Street Station','China Miéville',2000],\n",
        "    ['Thud!','Terry Pratchett',2005],\n",
        "    ['The Spellman Files','Lisa Lutz',2007],\n",
        "    ['Small Gods','Terry Pratchett',1992]\n",
        "]\n",
        "\n",
        "with open('books.csv', \"w\") as csvfile:\n",
        "  csvWriter = csv.writer(csvfile)\n",
        "  csvWriter.writerow(head)\n",
        "  csvWriter.writerows(rows)\n",
        "  csvfile.close()"
      ],
      "metadata": {
        "id": "jg9xt8C1xbK3"
      },
      "execution_count": 5,
      "outputs": []
    },
    {
      "cell_type": "markdown",
      "source": [
        "4. Use the sqlite3 module to create a SQLite database called books.db, and a table called books with these fields: title (text), author (text), and year (integer)."
      ],
      "metadata": {
        "id": "FT4Cxqy-zLAY"
      }
    },
    {
      "cell_type": "code",
      "source": [
        "import sqlite3\n",
        "con = sqlite3.connect('books.db')\n",
        "cur = con.cursor()\n",
        "cur.execute(\"CREATE TABLE books (title nvarchar, author nvarchar, year int)\")"
      ],
      "metadata": {
        "colab": {
          "base_uri": "https://localhost:8080/"
        },
        "id": "DpQr4n6-1non",
        "outputId": "f56fb1b7-b170-4740-e31d-1bee5ae0594d"
      },
      "execution_count": 8,
      "outputs": [
        {
          "output_type": "execute_result",
          "data": {
            "text/plain": [
              "<sqlite3.Cursor at 0x7be34c3d3f40>"
            ]
          },
          "metadata": {},
          "execution_count": 8
        }
      ]
    },
    {
      "cell_type": "markdown",
      "source": [
        "5. Read books.csv and insert its data into the book table."
      ],
      "metadata": {
        "id": "0-ZXLCug2rfn"
      }
    },
    {
      "cell_type": "code",
      "source": [
        "import csv\n",
        "\n",
        "with open(\"books.csv\", \"r\") as csvfile:\n",
        "  csvReader = csv.reader(csvfile)\n",
        "  next(csvReader, None) #skips header row\n",
        "  for lines in csvReader:\n",
        "    print(f\"Inserting - INSERT INTO books VALUES ('{lines[0]}', '{lines[1]}', {lines[2]})\")\n",
        "    cur.execute(f\"INSERT INTO books VALUES ('{lines[0]}', '{lines[1]}', {lines[2]})\")\n",
        "    con.commit()\n",
        "  csvfile.close()"
      ],
      "metadata": {
        "colab": {
          "base_uri": "https://localhost:8080/"
        },
        "id": "FHQJEW9A2IMo",
        "outputId": "af1480a5-09b1-4fa6-e4ab-2541a2fbb9ef"
      },
      "execution_count": 24,
      "outputs": [
        {
          "output_type": "stream",
          "name": "stdout",
          "text": [
            "Inserting - INSERT INTO books VALUES ('The Weirdstone of Brisingamen', 'Alan Garner', 1960)\n",
            "Inserting - INSERT INTO books VALUES ('Perdido Street Station', 'China Miéville', 2000)\n",
            "Inserting - INSERT INTO books VALUES ('Thud!', 'Terry Pratchett', 2005)\n",
            "Inserting - INSERT INTO books VALUES ('The Spellman Files', 'Lisa Lutz', 2007)\n",
            "Inserting - INSERT INTO books VALUES ('Small Gods', 'Terry Pratchett', 1992)\n"
          ]
        }
      ]
    },
    {
      "cell_type": "markdown",
      "source": [
        "6. Select and print the title column from the book table in alphabetical order."
      ],
      "metadata": {
        "id": "C_BUOCXk5GmB"
      }
    },
    {
      "cell_type": "code",
      "source": [
        "cur.execute(\"SELECT title FROM books ORDER BY title\")\n",
        "for row in cur:\n",
        "  print(row[0])"
      ],
      "metadata": {
        "colab": {
          "base_uri": "https://localhost:8080/"
        },
        "id": "FGSIfXFI3ArI",
        "outputId": "85444553-7a96-4cd8-8486-5d2d4a8db71e"
      },
      "execution_count": 28,
      "outputs": [
        {
          "output_type": "stream",
          "name": "stdout",
          "text": [
            "Perdido Street Station\n",
            "Small Gods\n",
            "The Spellman Files\n",
            "The Weirdstone of Brisingamen\n",
            "Thud!\n"
          ]
        }
      ]
    },
    {
      "cell_type": "markdown",
      "source": [
        "7. From the book table, select and print all columns in the order of publication."
      ],
      "metadata": {
        "id": "-gsRg_5f5q6Q"
      }
    },
    {
      "cell_type": "code",
      "source": [
        "result = cur.execute(\"SELECT * FROM books ORDER BY year\")\n",
        "for row in result:\n",
        "  print(row)"
      ],
      "metadata": {
        "colab": {
          "base_uri": "https://localhost:8080/"
        },
        "id": "ifzB4nvL5eOH",
        "outputId": "e85d76ab-7333-4077-a31b-1ac8728ad1fc"
      },
      "execution_count": 29,
      "outputs": [
        {
          "output_type": "stream",
          "name": "stdout",
          "text": [
            "('The Weirdstone of Brisingamen', 'Alan Garner', 1960)\n",
            "('Small Gods', 'Terry Pratchett', 1992)\n",
            "('Perdido Street Station', 'China Miéville', 2000)\n",
            "('Thud!', 'Terry Pratchett', 2005)\n",
            "('The Spellman Files', 'Lisa Lutz', 2007)\n"
          ]
        }
      ]
    },
    {
      "cell_type": "markdown",
      "source": [
        "8. Use the sqlalchemy module to connect to the sqlite3 database books.db that you just made in exercise 6."
      ],
      "metadata": {
        "id": "BuwwCGOz6LWB"
      }
    },
    {
      "cell_type": "code",
      "source": [
        "from sqlalchemy import create_engine\n",
        "conn = create_engine(\"sqlite:///books.db\")\n",
        "conn"
      ],
      "metadata": {
        "colab": {
          "base_uri": "https://localhost:8080/"
        },
        "id": "NTEWqlcS6Eco",
        "outputId": "c1259b23-edd9-40c4-8b28-90757436d90e"
      },
      "execution_count": 31,
      "outputs": [
        {
          "output_type": "execute_result",
          "data": {
            "text/plain": [
              "Engine(sqlite:///books.db)"
            ]
          },
          "metadata": {},
          "execution_count": 31
        }
      ]
    },
    {
      "cell_type": "markdown",
      "source": [
        "9. Install the Redis server and the Python redis library (pip install redis) on your computer. Create a Redis hash called test with the fields count (1) and name ('Fester Bestertester'). Print all the fields for test."
      ],
      "metadata": {
        "id": "ULdG6qUh84BA"
      }
    },
    {
      "cell_type": "code",
      "source": [
        "!pip install redis"
      ],
      "metadata": {
        "colab": {
          "base_uri": "https://localhost:8080/"
        },
        "id": "ZdpYgAL_8vFL",
        "outputId": "8c479d24-9c48-4c9d-8881-90a60ceb17fc"
      },
      "execution_count": 32,
      "outputs": [
        {
          "output_type": "stream",
          "name": "stdout",
          "text": [
            "Collecting redis\n",
            "  Downloading redis-5.0.0-py3-none-any.whl (250 kB)\n",
            "\u001b[?25l     \u001b[90m━━━━━━━━━━━━━━━━━━━━━━━━━━━━━━━━━━━━━━━━\u001b[0m \u001b[32m0.0/250.1 kB\u001b[0m \u001b[31m?\u001b[0m eta \u001b[36m-:--:--\u001b[0m\r\u001b[2K     \u001b[91m━━━━━━━━━━━━━━━━━━━━━━━━━━━━━━━\u001b[0m\u001b[91m╸\u001b[0m\u001b[90m━━━━━━━\u001b[0m \u001b[32m204.8/250.1 kB\u001b[0m \u001b[31m6.1 MB/s\u001b[0m eta \u001b[36m0:00:01\u001b[0m\r\u001b[2K     \u001b[90m━━━━━━━━━━━━━━━━━━━━━━━━━━━━━━━━━━━━━━━\u001b[0m \u001b[32m250.1/250.1 kB\u001b[0m \u001b[31m5.6 MB/s\u001b[0m eta \u001b[36m0:00:00\u001b[0m\n",
            "\u001b[?25hRequirement already satisfied: async-timeout>=4.0.2 in /usr/local/lib/python3.10/dist-packages (from redis) (4.0.3)\n",
            "Installing collected packages: redis\n",
            "Successfully installed redis-5.0.0\n"
          ]
        }
      ]
    },
    {
      "cell_type": "code",
      "source": [
        "import redis\n",
        "redis_client = redis.Redis(host='127.0.0.1', port=6379, db=0)\n",
        "\n",
        "redis_client.hset('test', 'count', 1)\n",
        "redis_client.hset('test', 'name', 'Fester Bestertester')\n",
        "\n",
        "all_fields = redis_client.hgetall('test')\n",
        "\n",
        "all_fields_str = {key.decode('utf-8'): value.decode('utf-8') for key, value in all_fields.items()}\n",
        "\n",
        "for key, value in all_fields_str.items():\n",
        "    print(f\"{key}: {value}\")"
      ],
      "metadata": {
        "id": "UuQumD4x9oHw"
      },
      "execution_count": null,
      "outputs": []
    }
  ]
}