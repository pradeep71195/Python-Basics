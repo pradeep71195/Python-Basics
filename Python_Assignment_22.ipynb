{
  "nbformat": 4,
  "nbformat_minor": 0,
  "metadata": {
    "colab": {
      "provenance": [],
      "mount_file_id": "1OLcB7VX5wUrkGaSA1-O7VCg9lZFpNsN6",
      "authorship_tag": "ABX9TyOGzDL1ShY0pZlwzJ+znPBj",
      "include_colab_link": true
    },
    "kernelspec": {
      "name": "python3",
      "display_name": "Python 3"
    },
    "language_info": {
      "name": "python"
    }
  },
  "cells": [
    {
      "cell_type": "markdown",
      "metadata": {
        "id": "view-in-github",
        "colab_type": "text"
      },
      "source": [
        "<a href=\"https://colab.research.google.com/github/pradeep71195/Python-Basics/blob/main/Python_Assignment_22.ipynb\" target=\"_parent\"><img src=\"https://colab.research.google.com/assets/colab-badge.svg\" alt=\"Open In Colab\"/></a>"
      ]
    },
    {
      "cell_type": "markdown",
      "source": [
        "1. What is the result of the code, and explain?\n",
        ">>> X = 'iNeuron'\n",
        ">>> def func():\n",
        "print(X)\n",
        "\n",
        "\n",
        ">>> func()\n",
        "\n",
        "\n",
        "Answer:\n",
        "- The variable X is initialised in global scope with the value 'iNeuron'.\n",
        "- A function named func() has been defined which prints the variable X.\n",
        "- Finally a call to the function func() is made which prints the value of X which is iNeuron."
      ],
      "metadata": {
        "id": "sMGxMCxA5GHM"
      }
    },
    {
      "cell_type": "code",
      "source": [
        "X = 'iNeuron'\n",
        "def func():\n",
        "  print(X)\n",
        "\n",
        "func()"
      ],
      "metadata": {
        "colab": {
          "base_uri": "https://localhost:8080/"
        },
        "id": "OZpkF6e85Jg0",
        "outputId": "f1d6b94c-823a-47ec-a175-ad127d992159"
      },
      "execution_count": 2,
      "outputs": [
        {
          "output_type": "stream",
          "name": "stdout",
          "text": [
            "iNeuron\n"
          ]
        }
      ]
    },
    {
      "cell_type": "markdown",
      "source": [
        "2. What is the result of the code, and explain?\n",
        "\n",
        "\n",
        ">>> X = 'iNeuron'\n",
        ">>> def func():\n",
        "X = 'NI!'\n",
        "\n",
        "\n",
        ">>> func()\n",
        ">>> print(X)\n",
        "\n",
        "\n",
        "Answer:\n",
        "- The variable X is initialised in global scope with the value 'iNeuron'.\n",
        "- A function named func() has been defined inside which the variable X is assigned with the value 'NI!'\n",
        "- Then a call to the function func() is made\n",
        "- Finally the value of X is printed. Since the value of X inside the function definition which is under local scope of the function and the print statement is outside the function's scope the value of X is still iNeuron."
      ],
      "metadata": {
        "id": "YGlfkPMK6HQY"
      }
    },
    {
      "cell_type": "code",
      "source": [
        "X = 'iNeuron'\n",
        "def func():\n",
        "  X = 'NI!'\n",
        "\n",
        "func()\n",
        "print(X)"
      ],
      "metadata": {
        "colab": {
          "base_uri": "https://localhost:8080/"
        },
        "id": "FkP6IdxA5OKO",
        "outputId": "bf52b9d4-0d82-4d77-f493-308a7cc363ad"
      },
      "execution_count": 8,
      "outputs": [
        {
          "output_type": "stream",
          "name": "stdout",
          "text": [
            "iNeuron\n"
          ]
        }
      ]
    },
    {
      "cell_type": "markdown",
      "source": [
        "3. What does this code print, and why?\n",
        "\n",
        "\n",
        ">>> X = 'iNeuron'\n",
        ">>> def func():\n",
        "X = 'NI'\n",
        "print(X)\n",
        "\n",
        "\n",
        ">>> func()\n",
        ">>> print(X)\n",
        "\n",
        "Answer: The code will print,\n",
        "\n",
        "NI\n",
        "\n",
        "iNeuron\n",
        "\n",
        "Explanation: NI will be printed because of the call to func() function where the local variable X is assigned with the value 'NI' but when the scope comes outside to the last print statement where the value of X is assigned to 'iNeuron' in global scope. Hence in the last print statement the value 'iNeuron' will be printed."
      ],
      "metadata": {
        "id": "P4JiSZlt7qkG"
      }
    },
    {
      "cell_type": "code",
      "source": [
        "X = 'iNeuron'\n",
        "def func():\n",
        "  X = 'NI'\n",
        "  print(X)\n",
        "\n",
        "func()\n",
        "print(X)"
      ],
      "metadata": {
        "colab": {
          "base_uri": "https://localhost:8080/"
        },
        "id": "dB3XV2IX6MIG",
        "outputId": "10685ce4-7595-44f6-9c1d-f61a513a1d38"
      },
      "execution_count": 9,
      "outputs": [
        {
          "output_type": "stream",
          "name": "stdout",
          "text": [
            "NI\n",
            "iNeuron\n"
          ]
        }
      ]
    },
    {
      "cell_type": "markdown",
      "source": [
        "4. What output does this code produce? Why?\n",
        "\n",
        "\n",
        ">>> X = 'iNeuron'\n",
        ">>> def func():\n",
        "global X\n",
        "X = 'NI'\n",
        "\n",
        "\n",
        ">>> func()\n",
        ">>> print(X)\n",
        "\n",
        "Answer: The output of the code is,\n",
        "\n",
        "NI\n",
        "\n",
        "Explanation: Inside the func() the keyword global is used for X and the X is assigned with 'NI' which will change the value of X in global scope meaning even outside the function func() scope.\n",
        "\n",
        "A global keyword is a keyword that allows a user to modify a variable outside the current scope. It is used to create global variables in Python from a non-global scope, i.e. inside a function."
      ],
      "metadata": {
        "id": "xGX52DD88oT8"
      }
    },
    {
      "cell_type": "code",
      "source": [
        "X = 'iNeuron'\n",
        "def func():\n",
        "  global X\n",
        "  X = 'NI'\n",
        "\n",
        "func()\n",
        "print(X)"
      ],
      "metadata": {
        "colab": {
          "base_uri": "https://localhost:8080/"
        },
        "id": "tyHkTPOH7voV",
        "outputId": "60612733-e993-4229-a6df-e0280c3bbde2"
      },
      "execution_count": 10,
      "outputs": [
        {
          "output_type": "stream",
          "name": "stdout",
          "text": [
            "NI\n"
          ]
        }
      ]
    },
    {
      "cell_type": "markdown",
      "source": [
        "5. What about this code—what’s the output, and why?\n",
        "\n",
        "\n",
        ">>> X = 'iNeuron'\n",
        ">>> def func():\n",
        "X = 'NI'\n",
        "def nested():\n",
        "print(X)\n",
        "nested()\n",
        "\n",
        "\n",
        ">>> func()\n",
        ">>> X\n",
        "\n",
        "Answer: The output will be,\n",
        "\n",
        "NI\n",
        "\n",
        "iNeuron\n",
        "\n",
        "Explanation: The nested() function is inside the scope of the function func(), which makes the X inside the nested() as same as func() hence the first line is printed NI based on the call to the nested() function.\n",
        "\n",
        "The last X will print 'iNeuron' which stays in the global scope of the program."
      ],
      "metadata": {
        "id": "Kvz7K3259cE1"
      }
    },
    {
      "cell_type": "code",
      "source": [
        "X = 'iNeuron'\n",
        "def func():\n",
        "  X = 'NI'\n",
        "  def nested():\n",
        "    print(X)\n",
        "  nested()\n",
        "\n",
        "func()\n",
        "X"
      ],
      "metadata": {
        "colab": {
          "base_uri": "https://localhost:8080/",
          "height": 53
        },
        "id": "Sl3NMpGR9WBW",
        "outputId": "b2b2a937-d24e-472b-9f33-115010d64bf5"
      },
      "execution_count": 16,
      "outputs": [
        {
          "output_type": "stream",
          "name": "stdout",
          "text": [
            "NI\n"
          ]
        },
        {
          "output_type": "execute_result",
          "data": {
            "text/plain": [
              "'iNeuron'"
            ],
            "application/vnd.google.colaboratory.intrinsic+json": {
              "type": "string"
            }
          },
          "metadata": {},
          "execution_count": 16
        }
      ]
    },
    {
      "cell_type": "markdown",
      "source": [
        "6. How about this code: what is its output in Python 3, and explain?\n",
        "\n",
        "\n",
        ">>> def func():\n",
        "X = 'NI'\n",
        "def nested():\n",
        "nonlocal X\n",
        "X = 'Spam'\n",
        "nested()\n",
        "print(X)\n",
        "\n",
        "\n",
        ">>> func()\n",
        "\n",
        "Answer: The output will be,\n",
        "\n",
        "Spam\n",
        "\n",
        "Explanation:\n",
        "- Inside func() scope X is assigned with the value 'NI'\n",
        "- Inside nested() which is present in func() scope, the keywork nonlocal is used on X which tells the program to not create a new variable instead use the X which is already available in line no. 2. Hence the value of X is now changed to 'Spam'\n",
        "- When func() is called, firstly X is initialized with 'NI', but once nested() is called it's value is changed to 'Spam' as explained in the previous point. Therefore 'Spam' is printed in the print statement.\n",
        "\n",
        "The nonlocal keyword won’t work on local (nested) or global(entired program) variables and therefore must be used to reference variables in another scope except the global and local one. The nonlocal keyword is used in nested functions to reference a variable in the parent function(func)"
      ],
      "metadata": {
        "id": "9WGlicuZ-09O"
      }
    },
    {
      "cell_type": "code",
      "source": [
        "def func():\n",
        "  X = 'NI'\n",
        "  def nested():\n",
        "    nonlocal X\n",
        "    X = 'Spam'\n",
        "  nested()\n",
        "  print(X)\n",
        "\n",
        "func()"
      ],
      "metadata": {
        "colab": {
          "base_uri": "https://localhost:8080/"
        },
        "id": "UdSUZk1r9yAz",
        "outputId": "1ec5d6ec-d3c8-4e41-a3ba-da8be5ffe069"
      },
      "execution_count": 18,
      "outputs": [
        {
          "output_type": "stream",
          "name": "stdout",
          "text": [
            "Spam\n"
          ]
        }
      ]
    }
  ]
}