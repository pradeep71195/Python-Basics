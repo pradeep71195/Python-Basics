{
  "nbformat": 4,
  "nbformat_minor": 0,
  "metadata": {
    "colab": {
      "provenance": [],
      "mount_file_id": "1hupzWKkokxdJeSt1at9ne9AzWbLNKEii",
      "authorship_tag": "ABX9TyMQL53ZqBntV2EbRXSlQJN1",
      "include_colab_link": true
    },
    "kernelspec": {
      "name": "python3",
      "display_name": "Python 3"
    },
    "language_info": {
      "name": "python"
    }
  },
  "cells": [
    {
      "cell_type": "markdown",
      "metadata": {
        "id": "view-in-github",
        "colab_type": "text"
      },
      "source": [
        "<a href=\"https://colab.research.google.com/github/pradeep71195/Python-Basics/blob/main/Python_Assignment_12.ipynb\" target=\"_parent\"><img src=\"https://colab.research.google.com/assets/colab-badge.svg\" alt=\"Open In Colab\"/></a>"
      ]
    },
    {
      "cell_type": "markdown",
      "source": [
        "1. In what modes should the PdfFileReader() and PdfFileWriter() File objects will be opened?\n",
        "\n",
        "Answer:\n",
        "\tPdfFileReader() – will be opened in ‘rb’ read binary mode.\n",
        "\tPdfFileWriter() – will be opened in ‘wb’ write binary mode\n"
      ],
      "metadata": {
        "id": "aNhGfJ-qNfK4"
      }
    },
    {
      "cell_type": "code",
      "source": [
        "!pip install PyPDF2"
      ],
      "metadata": {
        "colab": {
          "base_uri": "https://localhost:8080/"
        },
        "id": "EUaTJYn8Nims",
        "outputId": "8103add3-371f-471d-983c-95934cd9dc9e"
      },
      "execution_count": 1,
      "outputs": [
        {
          "output_type": "stream",
          "name": "stdout",
          "text": [
            "Collecting PyPDF2\n",
            "  Downloading pypdf2-3.0.1-py3-none-any.whl (232 kB)\n",
            "\u001b[?25l     \u001b[90m━━━━━━━━━━━━━━━━━━━━━━━━━━━━━━━━━━━━━━━━\u001b[0m \u001b[32m0.0/232.6 kB\u001b[0m \u001b[31m?\u001b[0m eta \u001b[36m-:--:--\u001b[0m\r\u001b[2K     \u001b[91m━━━━━━━━━━━━━━━━━━━━━━━━━━━━━━━━━━━━━\u001b[0m\u001b[91m╸\u001b[0m\u001b[90m━\u001b[0m \u001b[32m225.3/232.6 kB\u001b[0m \u001b[31m9.4 MB/s\u001b[0m eta \u001b[36m0:00:01\u001b[0m\r\u001b[2K     \u001b[90m━━━━━━━━━━━━━━━━━━━━━━━━━━━━━━━━━━━━━━━\u001b[0m \u001b[32m232.6/232.6 kB\u001b[0m \u001b[31m6.6 MB/s\u001b[0m eta \u001b[36m0:00:00\u001b[0m\n",
            "\u001b[?25hInstalling collected packages: PyPDF2\n",
            "Successfully installed PyPDF2-3.0.1\n"
          ]
        }
      ]
    },
    {
      "cell_type": "markdown",
      "source": [
        "2. From a PdfFileReader object, how do you get a Page object for page 5?"
      ],
      "metadata": {
        "id": "mYtJdpz3Nptj"
      }
    },
    {
      "cell_type": "code",
      "source": [
        "import PyPDF2\n",
        "\n",
        "pdfObj = open(r\"/content/drive/MyDrive/Assignments/Descriptive Statistics.pdf\", 'rb')\n",
        "pdfReader = PyPDF2.PdfReader(pdfObj)\n",
        "\n",
        "pdfReader.pages[2].extract_text()"
      ],
      "metadata": {
        "id": "9nbgOQCKN2tT"
      },
      "execution_count": null,
      "outputs": []
    },
    {
      "cell_type": "markdown",
      "source": [
        "3. What PdfFileReader variable stores the number of pages in the PDF document?"
      ],
      "metadata": {
        "id": "JzRvXy7JPqFe"
      }
    },
    {
      "cell_type": "code",
      "source": [
        "print(\"Number of pages in PDF document - \", len(pdfReader.pages))"
      ],
      "metadata": {
        "colab": {
          "base_uri": "https://localhost:8080/"
        },
        "id": "R3ud4VKbOyHZ",
        "outputId": "ac8df7f7-8f91-4ba6-9728-30d7c7c3a7cf"
      },
      "execution_count": 18,
      "outputs": [
        {
          "output_type": "stream",
          "name": "stdout",
          "text": [
            "Number of pages in PDF document -  10\n"
          ]
        }
      ]
    },
    {
      "cell_type": "markdown",
      "source": [
        "4. If a PdfFileReader object’s PDF is encrypted with the password swordfish, what must you do before you can obtain Page objects from it?\n",
        "\n",
        "Answer: We must decrypt the file before obtaining the Page objects from it."
      ],
      "metadata": {
        "id": "tiqPXPSuQNWc"
      }
    },
    {
      "cell_type": "code",
      "source": [
        "password = \"swordfish\"\n",
        "pdfReader.decrypt(password)"
      ],
      "metadata": {
        "id": "KuTKHR7pQava"
      },
      "execution_count": null,
      "outputs": []
    },
    {
      "cell_type": "markdown",
      "source": [
        "5. What methods do you use to rotate a page?\n",
        "\n",
        "Answer:\n",
        "\tThe pdfReader.rotateClockwise() and pdfReader.rotateCounterClockwise() are used to rotate the PDF clockwise and anti-clockwise direction respectively. The degree of rotation is given as an integer argument.\n"
      ],
      "metadata": {
        "id": "FJ4ewXrMQqXY"
      }
    },
    {
      "cell_type": "markdown",
      "source": [
        "6. What is the difference between a Run object and a Paragraph object?\n",
        "\n",
        "Answer:\n",
        "\n",
        "  Run object: It is a contiguous run of string/text with the same style. A new Run object is needed whenever the text style changes.\n",
        "\n",
        "  Paragraph object: It is a list of Run objects. A new paragraph begins whenever the user presses ENTER or RETURN while typing a document.\n",
        "\n",
        "Note: A list of paragraph represents a Document object.\n"
      ],
      "metadata": {
        "id": "AxOT1ApkQ9Aw"
      }
    },
    {
      "cell_type": "markdown",
      "source": [
        "7. How do you obtain a list of Paragraph objects for a Document object that’s stored in a variable named doc?\n",
        "\n",
        "Answer:\n",
        "\tdoc.paragraphs can be used to obtains the list of Paragraph objects.\n"
      ],
      "metadata": {
        "id": "c73b1VgFRC1Q"
      }
    },
    {
      "cell_type": "code",
      "source": [
        "!pip install python-docx"
      ],
      "metadata": {
        "colab": {
          "base_uri": "https://localhost:8080/"
        },
        "id": "_k1fhGuIQjUw",
        "outputId": "0f498f37-3de4-46d4-a523-7df429dd2bdc"
      },
      "execution_count": 21,
      "outputs": [
        {
          "output_type": "stream",
          "name": "stdout",
          "text": [
            "Collecting python-docx\n",
            "  Downloading python-docx-0.8.11.tar.gz (5.6 MB)\n",
            "\u001b[?25l     \u001b[90m━━━━━━━━━━━━━━━━━━━━━━━━━━━━━━━━━━━━━━━━\u001b[0m \u001b[32m0.0/5.6 MB\u001b[0m \u001b[31m?\u001b[0m eta \u001b[36m-:--:--\u001b[0m\r\u001b[2K     \u001b[91m━━━━━━\u001b[0m\u001b[90m╺\u001b[0m\u001b[90m━━━━━━━━━━━━━━━━━━━━━━━━━━━━━━━━━\u001b[0m \u001b[32m0.9/5.6 MB\u001b[0m \u001b[31m26.4 MB/s\u001b[0m eta \u001b[36m0:00:01\u001b[0m\r\u001b[2K     \u001b[91m━━━━━━━━━━━━━━━━━━━━━━━━━━━━━━━━━━━━━\u001b[0m\u001b[90m╺\u001b[0m\u001b[90m━━\u001b[0m \u001b[32m5.2/5.6 MB\u001b[0m \u001b[31m73.7 MB/s\u001b[0m eta \u001b[36m0:00:01\u001b[0m\r\u001b[2K     \u001b[90m━━━━━━━━━━━━━━━━━━━━━━━━━━━━━━━━━━━━━━━━\u001b[0m \u001b[32m5.6/5.6 MB\u001b[0m \u001b[31m57.0 MB/s\u001b[0m eta \u001b[36m0:00:00\u001b[0m\n",
            "\u001b[?25h  Preparing metadata (setup.py) ... \u001b[?25l\u001b[?25hdone\n",
            "Requirement already satisfied: lxml>=2.3.2 in /usr/local/lib/python3.10/dist-packages (from python-docx) (4.9.3)\n",
            "Building wheels for collected packages: python-docx\n",
            "  Building wheel for python-docx (setup.py) ... \u001b[?25l\u001b[?25hdone\n",
            "  Created wheel for python-docx: filename=python_docx-0.8.11-py3-none-any.whl size=184487 sha256=c0d08afbfee9cf696fda344a01943e05a75d93a294bf6dd6a269d8f760a3a09d\n",
            "  Stored in directory: /root/.cache/pip/wheels/80/27/06/837436d4c3bd989b957a91679966f207bfd71d358d63a8194d\n",
            "Successfully built python-docx\n",
            "Installing collected packages: python-docx\n",
            "Successfully installed python-docx-0.8.11\n"
          ]
        }
      ]
    },
    {
      "cell_type": "markdown",
      "source": [
        "8. What type of object has bold, underline, italic, strike, and outline variables?\n",
        "\n",
        "Answer:\n",
        "\tA Run object has the bold, underline, italic, strike, and outline variables.\n"
      ],
      "metadata": {
        "id": "UsFBoFmZRdba"
      }
    },
    {
      "cell_type": "markdown",
      "source": [
        "9. What is the difference between False, True, and None for the bold variable?\n",
        "\n",
        "Answer:\n",
        "\tFalse – The attribute is always disabled.\n",
        "\tTrue – The attribute is always enabled, no matter what other styles are applied to run.\n",
        "\tNone – defaults to whatever the run’s style is set to.\n"
      ],
      "metadata": {
        "id": "CVi-2IRURf2F"
      }
    },
    {
      "cell_type": "markdown",
      "source": [
        "10. How do you create a Document object for a new Word document?"
      ],
      "metadata": {
        "id": "zYyOy1SuRlra"
      }
    },
    {
      "cell_type": "code",
      "source": [
        "import docx\n",
        "doc = docx.Document(\"sampleDoc.docx\")"
      ],
      "metadata": {
        "id": "d3Rr-xOTRI8q"
      },
      "execution_count": null,
      "outputs": []
    },
    {
      "cell_type": "markdown",
      "source": [
        "11. How do you add a paragraph with the text 'Hello, there!' to a Document object stored in a variable named doc?"
      ],
      "metadata": {
        "id": "x6Y2ojouRwxq"
      }
    },
    {
      "cell_type": "code",
      "source": [
        "doc.add_paragraph(\"Hello, there!\")"
      ],
      "metadata": {
        "id": "rrltnoO6RxJ9"
      },
      "execution_count": null,
      "outputs": []
    },
    {
      "cell_type": "markdown",
      "source": [
        "12. What integers represent the levels of headings available in Word documents?\n",
        "\n",
        "Answer:\n",
        "\tThe level of headings is - 0, 1, 2, 3 & 4. The integer 0 makes the heading the Title style, 1 makes in the main heading all the way down, 4 makes the lowest subheading.\n"
      ],
      "metadata": {
        "id": "2kdkaHRmR0zh"
      }
    }
  ]
}