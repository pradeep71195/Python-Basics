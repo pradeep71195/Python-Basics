{
  "nbformat": 4,
  "nbformat_minor": 0,
  "metadata": {
    "colab": {
      "provenance": [],
      "mount_file_id": "1PK_PX5FtY71He5DSd9TZ5PnKoYwXZjC0",
      "authorship_tag": "ABX9TyOCMTgvK/a7y5u0JrFPGSDB",
      "include_colab_link": true
    },
    "kernelspec": {
      "name": "python3",
      "display_name": "Python 3"
    },
    "language_info": {
      "name": "python"
    }
  },
  "cells": [
    {
      "cell_type": "markdown",
      "metadata": {
        "id": "view-in-github",
        "colab_type": "text"
      },
      "source": [
        "<a href=\"https://colab.research.google.com/github/pradeep71195/Python-Basics/blob/main/Python_Assignment_9.ipynb\" target=\"_parent\"><img src=\"https://colab.research.google.com/assets/colab-badge.svg\" alt=\"Open In Colab\"/></a>"
      ]
    },
    {
      "cell_type": "markdown",
      "source": [
        "1. To what does a relative path refer?\n",
        "\n",
        "Answer:\n",
        "\tA relative path refers to the files and folders related to the current working directory only.\n",
        "\n"
      ],
      "metadata": {
        "id": "vSreE4ESVFZy"
      }
    },
    {
      "cell_type": "markdown",
      "source": [
        "2. What does an absolute path start with your operating system?\n",
        "\n",
        "Answer:\n",
        "\tAn absolute path starts from the absolute start of your hard drive and contains every path in the file system to target the file required.\n",
        "  For example, C:/Users/pradeepm/Documents/My Files/Python Basics/Assignment_9.docx\n"
      ],
      "metadata": {
        "id": "hYuZ63cZVKrb"
      }
    },
    {
      "cell_type": "markdown",
      "source": [
        "3. What do the functions os.getcwd() and os.chdir() do?\n",
        "\n",
        "Answer:\n",
        "\n",
        "  os.getcwd() – returns the string representing the current working directory\n",
        "\n",
        "  os.chdir(path) – take the string representing the path as input and changes the current working directory to that path.\n"
      ],
      "metadata": {
        "id": "PlOixAE2VQth"
      }
    },
    {
      "cell_type": "code",
      "execution_count": 1,
      "metadata": {
        "colab": {
          "base_uri": "https://localhost:8080/"
        },
        "id": "0_cm40DPPOO1",
        "outputId": "ffc66d46-4670-4b1f-a09f-50dd01984016"
      },
      "outputs": [
        {
          "output_type": "stream",
          "name": "stdout",
          "text": [
            "Current Path - /content\n",
            "Path changed to -  /content/drive/MyDrive/Assignments\n"
          ]
        }
      ],
      "source": [
        "import os\n",
        "\n",
        "currPath = os.getcwd()\n",
        "print(f\"Current Path - {currPath}\")\n",
        "\n",
        "os.chdir(r'/content/drive/MyDrive/Assignments')\n",
        "\n",
        "print(\"Path changed to - \",os.getcwd())\n"
      ]
    },
    {
      "cell_type": "markdown",
      "source": [
        "4. What are the . and .. folders?\n",
        "\n",
        "Answer:\n",
        "\tThe ‘.’ (dot) refers the current working directory where our program or script runs and the ‘..’ (double dot) refers the parent directory of the current working directory.\n"
      ],
      "metadata": {
        "id": "TNkt0CvxWOHD"
      }
    },
    {
      "cell_type": "markdown",
      "source": [
        "5. In C:\\bacon\\eggs\\spam.txt, which part is the dir name, and which part is the base name?\n",
        "\n",
        "Answer:\n",
        "\n",
        "The directory name (dir name) is: C:\\bacon\\eggs\n",
        "\n",
        "The base name is: spam.txt\n"
      ],
      "metadata": {
        "id": "iJtBrkVGWXus"
      }
    },
    {
      "cell_type": "code",
      "source": [
        "print('Directory Name: ',os.path.dirname(os.path.abspath(\"Python_Assignment-9.ipynb\")))\n",
        "print('Base Name: ',os.path.basename(r'/content/drive/MyDrive/Assignments/Python_Assignment-9.ipynb'))"
      ],
      "metadata": {
        "colab": {
          "base_uri": "https://localhost:8080/"
        },
        "id": "5LQTqJ69d6-0",
        "outputId": "7635b845-3982-4e96-8a39-b645b4a25c81"
      },
      "execution_count": 14,
      "outputs": [
        {
          "output_type": "stream",
          "name": "stdout",
          "text": [
            "Directory Name:  /content/drive/MyDrive/Assignments\n",
            "Base Name:  Python_Assignment-9.ipynb\n"
          ]
        }
      ]
    },
    {
      "cell_type": "markdown",
      "source": [
        "6. What are the three “mode” arguments that can be passed to the open() function?\n",
        "\n",
        "Answer:\n",
        "- Read mode (‘r’) – Opens the file for reading. If the file does not\n",
        "exist, an error will occur.\n",
        "- Write mode (‘w’) – Opens the file for writing. If the file does not exist, new file will be created. If a file is already present, it will be truncated first, and new content will be written.\n",
        "- Append mode (‘a’) - Opens the file for writing. If the file does not exist, new file will be created. If a file is already present new content will be written at the end of the existing content.\n"
      ],
      "metadata": {
        "id": "2QzAwxNSWeDL"
      }
    },
    {
      "cell_type": "markdown",
      "source": [
        "7. What happens if an existing file is opened in write mode?\n",
        "\n",
        "Answer:\n",
        "If an existing file is opened in write mode, the content in the file will be truncated first (file is emptied), and new content will be written using the write() method.\n"
      ],
      "metadata": {
        "id": "5aIZ17-RWk_p"
      }
    },
    {
      "cell_type": "markdown",
      "source": [
        "8. How do you tell the difference between read() and readlines()?\n",
        "\n",
        "Answer:\n",
        "\n",
        "  read() – reads the entire file and returns a string\n",
        "\n",
        "  readlines() – read the file line by line and returns a list of string.\n"
      ],
      "metadata": {
        "id": "49PDt4xpXjn7"
      }
    },
    {
      "cell_type": "markdown",
      "source": [
        "9. What data structure does a shelf value resemble?\n",
        "\n",
        "Answer:\n",
        "\tShelf value resembles a dictionary-like data structure.\n"
      ],
      "metadata": {
        "id": "APXev51LXntx"
      }
    }
  ]
}