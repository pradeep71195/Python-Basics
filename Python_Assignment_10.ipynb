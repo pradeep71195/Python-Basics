{
  "nbformat": 4,
  "nbformat_minor": 0,
  "metadata": {
    "colab": {
      "provenance": [],
      "mount_file_id": "1y9O0f1NHYAIb1S9zpWtAZ224L49Ym4S3",
      "authorship_tag": "ABX9TyNIwtHqoJfw0IYGr/5UcMoM",
      "include_colab_link": true
    },
    "kernelspec": {
      "name": "python3",
      "display_name": "Python 3"
    },
    "language_info": {
      "name": "python"
    }
  },
  "cells": [
    {
      "cell_type": "markdown",
      "metadata": {
        "id": "view-in-github",
        "colab_type": "text"
      },
      "source": [
        "<a href=\"https://colab.research.google.com/github/pradeep71195/Python-Basics/blob/main/Python_Assignment_10.ipynb\" target=\"_parent\"><img src=\"https://colab.research.google.com/assets/colab-badge.svg\" alt=\"Open In Colab\"/></a>"
      ]
    },
    {
      "cell_type": "markdown",
      "source": [
        "1. How do you distinguish between shutil.copy() and shutil.copytree()?\n",
        "\n",
        "Answer:\n",
        "\n",
        "a.\tshutil.copy() – copies the file from the source to destination and returns the path of the copied file.\n",
        "\n",
        "b.\tshutil.copytree() – copies an entire directory from source to destination including the sub folders present inside the source directory and returns the path of the destination directory.  \n"
      ],
      "metadata": {
        "id": "PewEoLAICHuI"
      }
    },
    {
      "cell_type": "markdown",
      "source": [
        "2. What function is used to rename files??\n",
        "\n",
        "Answer:\n",
        "\n",
        "a.\tThe function os.rename(source, destination) is used to rename files/folders.\n",
        "\n",
        "b.\tThe function shutil.move() can also be used to rename files.\n"
      ],
      "metadata": {
        "id": "XXB08GGNCPRu"
      }
    },
    {
      "cell_type": "markdown",
      "source": [
        "3. What is the difference between the delete functions in the send2trash and shutil modules?\n",
        "\n",
        "Answer:\n",
        "\tThe send2trash function will move the files or folder to the recycle bin whereas the shutil function will remove/deletes it permanently.\n"
      ],
      "metadata": {
        "id": "dGlMvNR3Ctbp"
      }
    },
    {
      "cell_type": "markdown",
      "source": [
        "4.ZipFile objects have a close() method just like File objects’ close() method. What ZipFile method is equivalent to File objects’ open() method?\n",
        "\n",
        "Answer:\n",
        "\tThe function zipfile.ZipFile() can be used to open zip files and modes – r, w, a, x can be used to read, write, append existing file and create new file and write options respectively.\n"
      ],
      "metadata": {
        "id": "XNiudlx2CyE3"
      }
    },
    {
      "cell_type": "markdown",
      "source": [
        "5. Create a programme that searches a folder tree for files with a certain file extension (such as .pdf or .jpg). Copy these files from whatever location they are in to a new folder."
      ],
      "metadata": {
        "id": "4v4cCFC9C3xQ"
      }
    },
    {
      "cell_type": "code",
      "source": [
        "import os\n",
        "import shutil\n",
        "\n",
        "def copy_files_to(source, destination, extension):\n",
        "  print('called')\n",
        "  if not os.path.exists(destination):\n",
        "    os.makedirs(destination)\n",
        "    print(\"Destination folder created\")\n",
        "\n",
        "  for root, _, files in os.walk(source):\n",
        "    for file in files:\n",
        "      if file.endswith(extension):\n",
        "        src_path = os.path.join(root, file)\n",
        "        dst_path = os.path.join(destination, file)\n",
        "        shutil.copy2(src_path, dst_path)\n",
        "        print(\"File copied - \",dst_path)\n",
        "\n",
        "src_folder = r'/content/drive/MyDrive/Assignments/Source'\n",
        "dst_folder = r'/content/drive/MyDrive/Assignments/Destination'\n",
        "ext = \".jpg\"\n",
        "\n",
        "copy_files_to(src_folder, dst_folder, ext)"
      ],
      "metadata": {
        "colab": {
          "base_uri": "https://localhost:8080/"
        },
        "id": "Gz-OBJvGCHPs",
        "outputId": "2a83a985-fbae-4eda-805d-2076141a1d68"
      },
      "execution_count": 1,
      "outputs": [
        {
          "output_type": "stream",
          "name": "stdout",
          "text": [
            "called\n",
            "File copied -  /content/drive/MyDrive/Assignments/Destination/SystemSlowness1.jpg\n",
            "File copied -  /content/drive/MyDrive/Assignments/Destination/SystemSlowness.jpg\n"
          ]
        }
      ]
    }
  ]
}