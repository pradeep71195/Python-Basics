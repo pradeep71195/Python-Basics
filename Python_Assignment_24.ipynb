{
  "nbformat": 4,
  "nbformat_minor": 0,
  "metadata": {
    "colab": {
      "provenance": [],
      "mount_file_id": "1OLcB7VX5wUrkGaSA1-O7VCg9lZFpNsN6",
      "authorship_tag": "ABX9TyPniKfdsxKKhQKcIQ42mkLT",
      "include_colab_link": true
    },
    "kernelspec": {
      "name": "python3",
      "display_name": "Python 3"
    },
    "language_info": {
      "name": "python"
    }
  },
  "cells": [
    {
      "cell_type": "markdown",
      "metadata": {
        "id": "view-in-github",
        "colab_type": "text"
      },
      "source": [
        "<a href=\"https://colab.research.google.com/github/pradeep71195/Python-Basics/blob/main/Python_Assignment_24.ipynb\" target=\"_parent\"><img src=\"https://colab.research.google.com/assets/colab-badge.svg\" alt=\"Open In Colab\"/></a>"
      ]
    },
    {
      "cell_type": "markdown",
      "source": [
        "1. What is the relationship between def statements and lambda expressions\n",
        "\n",
        "Answer:\n",
        "\n",
        "- While both Def and lambda are used to create functions in python, the def does not return any object unless it is explicitly made to return whereas a lambda function does return an object.\n",
        "- The def functions must be declared in the namespace whereas the lambda functions can be used without any declaration in the namespace\n",
        "- Both of the function f1() and the lambda statements does the same thing below."
      ],
      "metadata": {
        "id": "9l6ED0q8xhG2"
      }
    },
    {
      "cell_type": "code",
      "source": [
        "def f1(X):\n",
        "  X = X*3\n",
        "  return X\n",
        "\n",
        "num = lambda X: X*3"
      ],
      "metadata": {
        "id": "IrKMouXBzi70"
      },
      "execution_count": null,
      "outputs": []
    },
    {
      "cell_type": "markdown",
      "source": [
        "2. What is the benefit of lambda?\n",
        "\n",
        "Answer:\n",
        "- It allows the use od free variables ie., the variables that are defined outside it's scope.\n",
        "- Lambda functions are declared as inline functions\n",
        "- The code is made smaller, mode readable and concise\n",
        "- They enable Functional programming\n",
        "- The support parallel processing\n",
        "- and are easier to use in APIs and libraries. Lambdas are expressions and not direct functions. They can pass behaviours as well as data to functions\n"
      ],
      "metadata": {
        "id": "2RFnkVIpysc-"
      }
    },
    {
      "cell_type": "markdown",
      "source": [
        "3. Compare and contrast map, filter, and reduce.\n",
        "\n",
        "Answer:\n",
        "- All three functions (map, filter, and reduce) operate on iterables and accept a function as one of their arguments.\n",
        "- map applies the function to each element and returns an iterable of the results, preserving the original number of elements.\n",
        "- filter applies the function to filter elements based on a condition and returns an iterable containing the filtered elements.\n",
        "- reduce applies the function cumulatively to reduce the iterable to a single value."
      ],
      "metadata": {
        "id": "LJ0dmMDJ0_zr"
      }
    },
    {
      "cell_type": "markdown",
      "source": [
        "4. What are function annotations, and how are they used?\n",
        "\n",
        "Answer: Function annotations are arbitrary python expressions that are associated with various part of functions. These expressions are evaluated at compile time and have no life in python’s runtime environment. Python does not attach any meaning to these annotations meaning even if the type of data is different from what is annotated, the program still works the same. They are used to tell the developer what type of data needs to be passed.\n",
        "\n",
        "For example,"
      ],
      "metadata": {
        "id": "sIZB_R5LIwtx"
      }
    },
    {
      "cell_type": "code",
      "source": [
        "def func(a: int, b: int) -> int:\n",
        "  return a+b\n",
        "\n",
        "print(func(4, 3))\n",
        "print(func(\"Hello \", \"World!\"))\n",
        "print(func.__annotations__)"
      ],
      "metadata": {
        "id": "nPI0HRIfxh7s",
        "colab": {
          "base_uri": "https://localhost:8080/"
        },
        "outputId": "fdcff71a-8f2d-4389-d2e6-4080d62cd5b4"
      },
      "execution_count": 4,
      "outputs": [
        {
          "output_type": "stream",
          "name": "stdout",
          "text": [
            "7\n",
            "Hello World!\n",
            "{'a': <class 'int'>, 'b': <class 'int'>, 'return': <class 'int'>}\n"
          ]
        }
      ]
    },
    {
      "cell_type": "markdown",
      "source": [
        "Explanation: As explained in the answer,\n",
        "- When 4,3 (int) is passed it returned 7\n",
        "- When \"Hello\", \"World!\" (str) is passed, they are basically concatenated and returned without any issues even when they are annotated as int.\n",
        "- The \"\\_\\_annotations\\_\\_\" tells about the function annotations in the function signature"
      ],
      "metadata": {
        "id": "Csl8GZICN6Bq"
      }
    },
    {
      "cell_type": "markdown",
      "source": [
        "5. What are recursive functions, and how are they used?\n",
        "\n",
        "Answer: Recursive functions are functions that calls itself directly or indirectly. They are useful in many ways such as,\n",
        "- complex code can be break down into smaller problems using recursion\n",
        "- sequence creation is simple than using nested iterations\n",
        "- Makes the code more readable, simple and effective\n",
        "\n",
        "For example, The following code generated the factorial of a given number by calling itself.\n",
        "\n",
        "Factorial: n! for n = 4 -> 4x3x2x1 is 24"
      ],
      "metadata": {
        "id": "xCIvD2DGPA9W"
      }
    },
    {
      "cell_type": "code",
      "source": [
        "n = 6\n",
        "def factorial(n):\n",
        "  if n > 1:\n",
        "    return (n * factorial(n-1))\n",
        "  elif n == 1:\n",
        "    return n\n",
        "  else:\n",
        "    return \"Invalid input\"\n",
        "\n",
        "print(f\"Factorial of {n} is {factorial(n)}\")"
      ],
      "metadata": {
        "colab": {
          "base_uri": "https://localhost:8080/"
        },
        "id": "yHUQ2KKoNs3m",
        "outputId": "067fc730-ff48-4370-9704-e6b177708d30"
      },
      "execution_count": 13,
      "outputs": [
        {
          "output_type": "stream",
          "name": "stdout",
          "text": [
            "Factorial of 6 is 720\n"
          ]
        }
      ]
    },
    {
      "cell_type": "markdown",
      "source": [
        "6. What are some general design guidelines for coding functions?\n",
        "\n",
        "Answers:\n",
        "- Use 4-space indentation and no tabs.\n",
        "- Use docstrings\n",
        "- Wrap linethat they don’t exceed 79 characters\n",
        "- Use of regular and updated comments are valuable to both the coders and users\n",
        "- Use of trailing commas : in case of tuple -> ('good',)\n",
        "- Use Python’s default UTF-8 or ASCII encodings and not any fancy encodings\n",
        "Naming Conventions\n",
        "- Characters that should not be used for identifiers : ‘l’ (lowercase letter el), ‘O’ (uppercase letter oh), ‘I’ (uppercase letter eye) as single character variable names as these are similar to the numerals one and zero.\n",
        "- Don’t use non-ASCII characters in identifiers\n",
        "- Name your classes and functions consistently\n",
        "- While naming of function of methods always use self for the first argument"
      ],
      "metadata": {
        "id": "5OaGIKDNUVE2"
      }
    },
    {
      "cell_type": "markdown",
      "source": [
        "7. Name three or more ways that functions can communicate results to a caller.\n",
        "\n",
        "Answer: Functions can return,\n",
        "- single value\n",
        "- multiple values, tuple\n",
        "- list,dictionary\n",
        "- function object\n",
        "- class object"
      ],
      "metadata": {
        "id": "RoO9MI2sU3rD"
      }
    }
  ]
}