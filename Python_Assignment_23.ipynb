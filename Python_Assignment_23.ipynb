{
  "nbformat": 4,
  "nbformat_minor": 0,
  "metadata": {
    "colab": {
      "provenance": [],
      "mount_file_id": "1OLcB7VX5wUrkGaSA1-O7VCg9lZFpNsN6",
      "authorship_tag": "ABX9TyPh8bcUTe1TTsv4+yzQJz0P",
      "include_colab_link": true
    },
    "kernelspec": {
      "name": "python3",
      "display_name": "Python 3"
    },
    "language_info": {
      "name": "python"
    }
  },
  "cells": [
    {
      "cell_type": "markdown",
      "metadata": {
        "id": "view-in-github",
        "colab_type": "text"
      },
      "source": [
        "<a href=\"https://colab.research.google.com/github/pradeep71195/Python-Basics/blob/main/Python_Assignment_23.ipynb\" target=\"_parent\"><img src=\"https://colab.research.google.com/assets/colab-badge.svg\" alt=\"Open In Colab\"/></a>"
      ]
    },
    {
      "cell_type": "markdown",
      "source": [
        "1. What is the result of the code, and why?\n",
        ">>> def func(a, b=6, c=8):\n",
        "print(a, b, c)\n",
        ">>> func(1, 2)\n",
        "\n",
        "Answer: The result is,\n",
        "\n",
        "1 2 8\n",
        "\n",
        "Explanation:\n",
        "- The function func() has 3 args a,b,c with default values for 'b' and 'c' as 6, 8 respectively\n",
        "- When the func() is called with (1,2) they are assigned to a(first argument) and b(second argument) which overrides the default value of b and since a third value is not passed c will still contain the default value.\n",
        "- When printed 'a' will be printed as 1, 'b' as 2 and 'c' as 8"
      ],
      "metadata": {
        "id": "8bqiRofGBqve"
      }
    },
    {
      "cell_type": "code",
      "source": [
        "def func(a, b=6, c=8):\n",
        "  print(a, b, c)\n",
        "func(1, 2)"
      ],
      "metadata": {
        "colab": {
          "base_uri": "https://localhost:8080/"
        },
        "id": "ookva0FOBrkr",
        "outputId": "02694561-4886-4eb6-c2db-b82e00711a97"
      },
      "execution_count": 8,
      "outputs": [
        {
          "output_type": "stream",
          "name": "stdout",
          "text": [
            "1 2 8\n"
          ]
        }
      ]
    },
    {
      "cell_type": "markdown",
      "source": [
        "2. What is the result of this code, and why?\n",
        ">>> def func(a, b, c=5):\n",
        "print(a, b, c)\n",
        ">>> func(1, c=3, b=2)\n",
        "\n",
        "Answer: The result of the code is,\n",
        "1 2 3\n",
        "\n",
        "Explanation:\n",
        "- The func() is defined with 3 arguments a, b, and c=5(default value)\n",
        "- When the func() is called, even though the position is changed it is explicitly mentioned that b=2 and c=3. The first argument is by default assigned to 'a' due it's position.\n",
        "- Hence the func() call the value of **a is 1, b is 2 and c is 3**"
      ],
      "metadata": {
        "id": "fH5V2aSTDV9t"
      }
    },
    {
      "cell_type": "code",
      "source": [
        "def func(a, b, c=5):\n",
        "  print(a, b, c)\n",
        "func(1, c=3, b=2)"
      ],
      "metadata": {
        "colab": {
          "base_uri": "https://localhost:8080/"
        },
        "id": "ZH_HakVtBxAH",
        "outputId": "6e6fe39d-9b70-4bdd-8e45-bdc6e733700c"
      },
      "execution_count": 9,
      "outputs": [
        {
          "output_type": "stream",
          "name": "stdout",
          "text": [
            "1 2 3\n"
          ]
        }
      ]
    },
    {
      "cell_type": "markdown",
      "source": [
        "3. How about this code: what is its result, and why?\n",
        ">>> def func(a, *pargs):\n",
        "print(a, pargs)\n",
        ">>> func(1, 2, 3)\n",
        "\n",
        "Answer: The result of the code is,\n",
        "\n",
        "1 (2, 3)\n",
        "\n",
        "Explanation: The asterix * symbol is used when the number of non-keyword arguments to a function call is unknown or to accept any number of inputs. This argument is converted to an iteratable object meaning iterate through the object and do operations like len, filter, map, etc.\n",
        "\n",
        "So, **out of any number of input values to func(), the first value is assigned to the first argument 'a' and 'pargs' takes the result of the values as an iteratable object.**"
      ],
      "metadata": {
        "id": "tB6gwgSLEcON"
      }
    },
    {
      "cell_type": "code",
      "source": [
        "def func(a, *pargs):\n",
        "  print(a, pargs)\n",
        "func(1, 2, 3)"
      ],
      "metadata": {
        "colab": {
          "base_uri": "https://localhost:8080/"
        },
        "id": "TFXG1rUTDZoe",
        "outputId": "7325893b-7890-4213-ef8c-f5d21b937273"
      },
      "execution_count": 10,
      "outputs": [
        {
          "output_type": "stream",
          "name": "stdout",
          "text": [
            "1 (2, 3)\n"
          ]
        }
      ]
    },
    {
      "cell_type": "markdown",
      "source": [
        "4. What does this code print, and why?\n",
        ">>> def func(a, **kargs):\n",
        "print(a, kargs)\n",
        ">>> func(a=1, c=3, b=2)\n",
        "\n",
        "Answer: The result is,\n",
        "\n",
        "1 {'c': 3, 'b': 2}\n",
        "\n",
        "Explanation:\n",
        "\n",
        "- The double **kargs is used to pass a keyworded, variable-length argument list. A keyword argument is where you provide a name to the variable as you pass it into the function. What we assign is value, and to whom we assign is key\n",
        "- For example, in our above code **c is the key and 3 is the value**\n",
        "- The key, values pair c=3, b=2 are our keyword argument in this case and the first argument 'a' of func() takes the value 1 in the first position."
      ],
      "metadata": {
        "id": "Fko-SCs1Gk4W"
      }
    },
    {
      "cell_type": "code",
      "source": [
        "def func(a, **kargs):\n",
        "  print(a, kargs)\n",
        "func(a=1, c=3, b=2)"
      ],
      "metadata": {
        "colab": {
          "base_uri": "https://localhost:8080/"
        },
        "id": "CT_PuF5lEf0H",
        "outputId": "0721a98a-deb7-4b17-e956-680bcfeb7334"
      },
      "execution_count": 11,
      "outputs": [
        {
          "output_type": "stream",
          "name": "stdout",
          "text": [
            "1 {'c': 3, 'b': 2}\n"
          ]
        }
      ]
    },
    {
      "cell_type": "markdown",
      "source": [
        "5. What gets printed by this, and explain?\n",
        ">>> def func(a, b, c=8, d=5): print(a, b, c, d)\n",
        ">>> func(1, *(5, 6))\n",
        "\n",
        "Answer: The result is,\n",
        "\n",
        "1 5 6 5\n",
        "\n",
        "Explanation:\n",
        "- Here, 1 is assigned to parameter a. The *(5, 6) syntax is used to unpack the tuple (5, 6) into individual arguments for the remaining parameters b, c, and d.\n",
        "- So, effectively, it is equivalent to calling the function as func(1,5,6).\n",
        "- In the funtion call, a is assigned with 1, b with 5, c with 6 and d takes the default value 5\n",
        "- Hence **1 5 6 5** is printed"
      ],
      "metadata": {
        "id": "vKHBYALuIYqm"
      }
    },
    {
      "cell_type": "code",
      "source": [
        "def func(a, b, c=8, d=5):\n",
        "  print(a, b, c, d)\n",
        "func(1, *(5, 6))"
      ],
      "metadata": {
        "colab": {
          "base_uri": "https://localhost:8080/"
        },
        "id": "rlfCg8hxHE0F",
        "outputId": "c9dba34f-d108-4e59-b3a5-1e5f4af6ab30"
      },
      "execution_count": 12,
      "outputs": [
        {
          "output_type": "stream",
          "name": "stdout",
          "text": [
            "1 5 6 5\n"
          ]
        }
      ]
    },
    {
      "cell_type": "markdown",
      "source": [
        "6. what is the result of this, and explain?\n",
        ">>> def func(a, b, c): a = 2; b[0] = 'x'; c['a'] = 'y'\n",
        ">>> l=1; m=[1]; n={'a':0}\n",
        ">>> func(l, m, n)\n",
        "\n",
        "Answer:\n",
        "- Since the value of a, b, c is initialised inside the function func() they are printed as it is - **2 ['x'] {'a': 'y'}**.\n",
        "- After calling func(l, m, n), the variables l, m, and n will have the following values:\n",
        "\n",
        "  - l remains 1 because the change to **a** inside the function does not affect it because it is an **immutable integer**.\n",
        "  - m becomes ['x'] because of the modification to **b** inside the function because it is a **mutable list**.\n",
        "  - n becomes {'a': 'y'} because of the modification to **c** inside the function because it is a **mutable dictionary**.\n",
        "\n",
        "- Hence the print(l, m, n) will print - 1 ['x'] {'a': 'y'}"
      ],
      "metadata": {
        "id": "ah7uu0YCIkZN"
      }
    },
    {
      "cell_type": "code",
      "source": [
        "def func(a, b, c):\n",
        "  a = 2\n",
        "  b[0] = 'x'\n",
        "  c['a'] = 'y'\n",
        "  print(a, b, c)\n",
        "\n",
        "l=1\n",
        "m=[1]\n",
        "n={'a':0}\n",
        "func(l, m, n)\n",
        "print(l, m, n)"
      ],
      "metadata": {
        "colab": {
          "base_uri": "https://localhost:8080/"
        },
        "id": "vtY14zPoIdfN",
        "outputId": "3a477aa4-c60f-40c3-efb9-469d679a1bdd"
      },
      "execution_count": 16,
      "outputs": [
        {
          "output_type": "stream",
          "name": "stdout",
          "text": [
            "2 ['x'] {'a': 'y'}\n",
            "1 ['x'] {'a': 'y'}\n"
          ]
        }
      ]
    }
  ]
}