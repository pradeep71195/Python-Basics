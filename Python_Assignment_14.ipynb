{
  "nbformat": 4,
  "nbformat_minor": 0,
  "metadata": {
    "colab": {
      "provenance": [],
      "mount_file_id": "1WFOKpojiq6qkWxqkM-dh4FceVHBBMVuL",
      "authorship_tag": "ABX9TyM1Sz4lMlbDLsgjye3D/L8U",
      "include_colab_link": true
    },
    "kernelspec": {
      "name": "python3",
      "display_name": "Python 3"
    },
    "language_info": {
      "name": "python"
    }
  },
  "cells": [
    {
      "cell_type": "markdown",
      "metadata": {
        "id": "view-in-github",
        "colab_type": "text"
      },
      "source": [
        "<a href=\"https://colab.research.google.com/github/pradeep71195/Python-Basics/blob/main/Python_Assignment_14.ipynb\" target=\"_parent\"><img src=\"https://colab.research.google.com/assets/colab-badge.svg\" alt=\"Open In Colab\"/></a>"
      ]
    },
    {
      "cell_type": "markdown",
      "source": [
        "1. What does RGBA stand for?\n",
        "\n",
        "Answer:\n",
        "\tRed, Green, Blue and Alpha. The RBGA value is an integer ranging from 0 to 255. In Pillow, the RGBA values are represented by a tuple of 4 integers.\n",
        "\n",
        "For example, color Red is represented as (255, 0, 0, 255).\n"
      ],
      "metadata": {
        "id": "pG7LG0f2BGSX"
      }
    },
    {
      "cell_type": "code",
      "source": [
        "!pip install Pillow"
      ],
      "metadata": {
        "colab": {
          "base_uri": "https://localhost:8080/"
        },
        "id": "vC1jd7hTBJoT",
        "outputId": "80ee0a12-c45a-4d35-dc21-61c9fe5eb3f7"
      },
      "execution_count": 1,
      "outputs": [
        {
          "output_type": "stream",
          "name": "stdout",
          "text": [
            "Requirement already satisfied: Pillow in /usr/local/lib/python3.10/dist-packages (9.4.0)\n"
          ]
        }
      ]
    },
    {
      "cell_type": "markdown",
      "source": [
        "2. From the Pillow module, how do you get the RGBA value of any images?\n",
        "\n",
        "Answer:\n",
        "\tIn pillow, we can use ImageColor.getcolor() function to get the RGBA values for the color we want to use.\n"
      ],
      "metadata": {
        "id": "XTeOzZRRBNNG"
      }
    },
    {
      "cell_type": "code",
      "source": [
        "from PIL import ImageColor\n",
        "red = ImageColor.getcolor('red', 'RGBA')\n",
        "print(\"Red - \", red)\n",
        "green = ImageColor.getcolor('green', 'RGBA')\n",
        "print(\"Green - \", green)"
      ],
      "metadata": {
        "colab": {
          "base_uri": "https://localhost:8080/"
        },
        "id": "mwO22fdtBRjp",
        "outputId": "4f22a5d3-66c0-45fc-b039-4c6d29eede89"
      },
      "execution_count": 5,
      "outputs": [
        {
          "output_type": "stream",
          "name": "stdout",
          "text": [
            "Red -  (255, 0, 0, 255)\n",
            "Green -  (0, 128, 0, 255)\n"
          ]
        }
      ]
    },
    {
      "cell_type": "markdown",
      "source": [
        "3. What is a box tuple, and how does it work?\n",
        "\n",
        "Answer:\n",
        "Many Pillow functions takes box tuple argument which means it takes a tuple of four integer coordinates that represents a rectangular region in an image. For example, (3, 1, 9, 6)\n",
        "The four integers are,\n",
        "- Left – x coordinate. Leftmost edge of the box.\n",
        "- Top – y coordinate. Top edge of the box.\n",
        "- Right – x coordinate of one pixel right to the rightmost edge of the box. This integer must be larger than left integer.\n",
        "- Bottom – y coordinate of one pixel lower of bottom edge of the box. This integer must be larger than top integer.\n"
      ],
      "metadata": {
        "id": "QQnL5NaSCJAv"
      }
    },
    {
      "cell_type": "markdown",
      "source": [
        "4. Use your image and load in notebook then, How can you find out the width and height of an Image object?\n",
        "\n",
        "Answer:\tThe property called size(),  gives the width and height of the image object.\n"
      ],
      "metadata": {
        "id": "0YtFhrIjCUqO"
      }
    },
    {
      "cell_type": "code",
      "source": [
        "from PIL import Image\n",
        "imgObj = Image.open(r'/content/drive/MyDrive/Assignments/sample.png')\n",
        "width, height = imgObj.size\n",
        "print(f\"width - {width} and height - {height}\")"
      ],
      "metadata": {
        "colab": {
          "base_uri": "https://localhost:8080/"
        },
        "id": "QjCD9w3HBzP3",
        "outputId": "2287bbe1-319d-445f-b723-12cfc082d3fa"
      },
      "execution_count": 11,
      "outputs": [
        {
          "output_type": "stream",
          "name": "stdout",
          "text": [
            "width - 309 and height - 89\n"
          ]
        }
      ]
    },
    {
      "cell_type": "markdown",
      "source": [
        "5. What method would you call to get Image object for a 100×100 image, excluding the lower-left quarter of it?"
      ],
      "metadata": {
        "id": "-kUK0SQJDUA6"
      }
    },
    {
      "cell_type": "code",
      "source": [
        "image = Image.new('RGB', (100,100), 'white')\n",
        "image.paste(\"black\", (0,50,50,100))\n",
        "image.show()\n",
        "\n",
        "#Alternative for existing image is CROP\n",
        "image.crop((0, 50, 50, 100)) #crops the lower-left quarter"
      ],
      "metadata": {
        "colab": {
          "base_uri": "https://localhost:8080/",
          "height": 67
        },
        "id": "A5AN-cwrCu6w",
        "outputId": "7ebcdbea-098a-4781-dcd7-876b772676af"
      },
      "execution_count": 13,
      "outputs": [
        {
          "output_type": "execute_result",
          "data": {
            "text/plain": [
              "<PIL.Image.Image image mode=RGB size=50x50>"
            ],
            "image/png": "[encoded data removed]"
          },
          "metadata": {},
          "execution_count": 13
        }
      ]
    },
    {
      "cell_type": "markdown",
      "source": [
        "6. After making changes to an Image object, how could you save it as an image file?\n",
        "\n",
        "Answer:\n",
        "\tThe method save() can be used to save the image file.\n"
      ],
      "metadata": {
        "id": "Z-MvU2V0ED5N"
      }
    },
    {
      "cell_type": "code",
      "source": [
        "image.save('fileName.png')"
      ],
      "metadata": {
        "id": "74YZyctvDuSo"
      },
      "execution_count": null,
      "outputs": []
    },
    {
      "cell_type": "markdown",
      "source": [
        "7. What module contains Pillow’s shape-drawing code?\n",
        "\n",
        "Answer:\n",
        "\tThe ImageDraw module contains shape drawing code.\n"
      ],
      "metadata": {
        "id": "-gyo_Yr6EPPD"
      }
    },
    {
      "cell_type": "code",
      "source": [
        "from PIL import ImageDraw"
      ],
      "metadata": {
        "id": "qiBgWcpbFEzr"
      },
      "execution_count": null,
      "outputs": []
    },
    {
      "cell_type": "markdown",
      "source": [
        "8. Image objects do not have drawing methods. What kind of object does? How do you get this kind of object?\n",
        "\n",
        "Answer:\n",
        "\tThe ImageDraw object have the drawing methods. They are returned by the ImageDraw.Draw() method which takes the image as input."
      ],
      "metadata": {
        "id": "a4g12yOVERVu"
      }
    },
    {
      "cell_type": "code",
      "source": [
        "draw = ImageDraw.Draw(image)\n",
        "draw.line((0,0)+image.size, fill=128)\n",
        "image.save('sample2', 'PNG')"
      ],
      "metadata": {
        "id": "_xu2wURtEjYP"
      },
      "execution_count": null,
      "outputs": []
    }
  ]
}