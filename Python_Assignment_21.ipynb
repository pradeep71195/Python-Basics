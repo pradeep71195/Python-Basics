{
  "nbformat": 4,
  "nbformat_minor": 0,
  "metadata": {
    "colab": {
      "provenance": [],
      "mount_file_id": "1OLcB7VX5wUrkGaSA1-O7VCg9lZFpNsN6",
      "authorship_tag": "ABX9TyMY2rrGVXhAALuQRg2F1zub",
      "include_colab_link": true
    },
    "kernelspec": {
      "name": "python3",
      "display_name": "Python 3"
    },
    "language_info": {
      "name": "python"
    }
  },
  "cells": [
    {
      "cell_type": "markdown",
      "metadata": {
        "id": "view-in-github",
        "colab_type": "text"
      },
      "source": [
        "<a href=\"https://colab.research.google.com/github/pradeep71195/Python-Basics/blob/main/Python_Assignment_21.ipynb\" target=\"_parent\"><img src=\"https://colab.research.google.com/assets/colab-badge.svg\" alt=\"Open In Colab\"/></a>"
      ]
    },
    {
      "cell_type": "markdown",
      "source": [
        "1. Add the current date to the text file today.txt as a string.\n",
        "\n",
        "Answer: Python has a package for date named as datetime. We can import that to our program and get the date and store it as a string and write the string to a file"
      ],
      "metadata": {
        "id": "83jDYllhuP1u"
      }
    },
    {
      "cell_type": "code",
      "source": [
        "from datetime import datetime, date\n",
        "\n",
        "#Current date without time\n",
        "currDate = date.today()\n",
        "currDate = f\"Date without time - {currDate}\"\n",
        "print(currDate)\n",
        "\n",
        "#Current date with timestamp\n",
        "currDateTime = datetime.today()\n",
        "currDateTime = f\"Date with time - {currDateTime}\"\n",
        "print(currDateTime)\n",
        "\n",
        "#Writing this line to store into the file for further operations\n",
        "currDate = date.today()\n",
        "\n",
        "#Writing the data to a text file\n",
        "with open(\"today.txt\", \"w\") as resFile:\n",
        "  #resFile.write(str(currDate)+\"\\n\"+str(currDateTime))\n",
        "  resFile.write(str(currDate))\n",
        "resFile.close()"
      ],
      "metadata": {
        "colab": {
          "base_uri": "https://localhost:8080/"
        },
        "id": "ZQGkG-zOuQfc",
        "outputId": "a8b49e41-1d15-4478-c165-82d154f05d0b"
      },
      "execution_count": 1,
      "outputs": [
        {
          "output_type": "stream",
          "name": "stdout",
          "text": [
            "Date without time - 2023-09-01\n",
            "Date with time - 2023-09-01 17:14:47.553707\n"
          ]
        }
      ]
    },
    {
      "cell_type": "markdown",
      "source": [
        "2. Read the text file today.txt into the string today_string\n",
        "\n",
        "Answer: To read the file, we will open the file in read mode ('r') and use file.read() method to read the content from the file and store into the desired variable and print it."
      ],
      "metadata": {
        "id": "l9bT1UZkxghO"
      }
    },
    {
      "cell_type": "code",
      "source": [
        "with open(\"today.txt\", \"r\") as file1:\n",
        "  today_string = file1.read()\n",
        "file1.close()\n",
        "print(today_string)"
      ],
      "metadata": {
        "colab": {
          "base_uri": "https://localhost:8080/"
        },
        "id": "IrQTbYdcvCP5",
        "outputId": "14b32fdf-0492-464e-91d5-dd0569d0be9a"
      },
      "execution_count": 2,
      "outputs": [
        {
          "output_type": "stream",
          "name": "stdout",
          "text": [
            "2023-09-01\n"
          ]
        }
      ]
    },
    {
      "cell_type": "markdown",
      "source": [
        "3. Parse the date from today_string.\n",
        "\n",
        "Answer: To parse the date from the string we can use the parse() method of parser present inside the dateutil in python.\n",
        "\n",
        "For example,"
      ],
      "metadata": {
        "id": "zhzmCiKRytHt"
      }
    },
    {
      "cell_type": "code",
      "source": [
        "from dateutil import parser\n",
        "\n",
        "date = parser.parse(today_string)\n",
        "print(date)"
      ],
      "metadata": {
        "colab": {
          "base_uri": "https://localhost:8080/"
        },
        "id": "2n65SDtfyVuV",
        "outputId": "9a40db15-27fc-46be-cad3-f9e033e075f5"
      },
      "execution_count": 3,
      "outputs": [
        {
          "output_type": "stream",
          "name": "stdout",
          "text": [
            "2023-09-01 00:00:00\n"
          ]
        }
      ]
    },
    {
      "cell_type": "markdown",
      "source": [
        "4. List the files in your current directory\n",
        "\n",
        "Answer: To list the files in the current directory, we can use listdir() method from the os pachkage which list the files in current directory"
      ],
      "metadata": {
        "id": "99Uh2rAgzj4F"
      }
    },
    {
      "cell_type": "code",
      "source": [
        "import os\n",
        "os.listdir()"
      ],
      "metadata": {
        "colab": {
          "base_uri": "https://localhost:8080/"
        },
        "id": "uggC0V2iy9ZR",
        "outputId": "ca313fab-ba8b-45bc-e8c3-b2ccbd10915b"
      },
      "execution_count": 4,
      "outputs": [
        {
          "output_type": "execute_result",
          "data": {
            "text/plain": [
              "['.config', 'drive', 'today.txt', 'sample_data']"
            ]
          },
          "metadata": {},
          "execution_count": 4
        }
      ]
    },
    {
      "cell_type": "code",
      "source": [
        "os.getcwd()"
      ],
      "metadata": {
        "colab": {
          "base_uri": "https://localhost:8080/",
          "height": 35
        },
        "id": "doxLbqnJ3pFP",
        "outputId": "a9a3a1c6-7bed-47ab-f903-fc79d660e568"
      },
      "execution_count": 5,
      "outputs": [
        {
          "output_type": "execute_result",
          "data": {
            "text/plain": [
              "'/content'"
            ],
            "application/vnd.google.colaboratory.intrinsic+json": {
              "type": "string"
            }
          },
          "metadata": {},
          "execution_count": 5
        }
      ]
    },
    {
      "cell_type": "code",
      "source": [
        "os.chdir(r'/content/drive/MyDrive/Data Science/Assignments')"
      ],
      "metadata": {
        "id": "HO2h57xx3te-"
      },
      "execution_count": 6,
      "outputs": []
    },
    {
      "cell_type": "code",
      "source": [
        "os.getcwd()"
      ],
      "metadata": {
        "colab": {
          "base_uri": "https://localhost:8080/",
          "height": 35
        },
        "id": "eY2YV_Wy31tF",
        "outputId": "38bbc9ce-413d-4f16-cded-5df7ae53dc66"
      },
      "execution_count": 7,
      "outputs": [
        {
          "output_type": "execute_result",
          "data": {
            "text/plain": [
              "'/content/drive/MyDrive/Data Science/Assignments'"
            ],
            "application/vnd.google.colaboratory.intrinsic+json": {
              "type": "string"
            }
          },
          "metadata": {},
          "execution_count": 7
        }
      ]
    },
    {
      "cell_type": "markdown",
      "source": [
        "5. Create a list of all of the files in your parent directory (minimum five files should be available).\n",
        "\n",
        "Answer: We will store the result of listdir() which returns a list of string with file names and use a for loop to print the file in the directory"
      ],
      "metadata": {
        "id": "PDHAm73J2bun"
      }
    },
    {
      "cell_type": "code",
      "source": [
        "currDir = os.getcwd()\n",
        "parentDir = os.path.dirname(currDir)\n",
        "fileList = os.listdir(parentDir)\n",
        "\n",
        "num = len(fileList)\n",
        "\n",
        "for i in range(num):\n",
        "  print(f\"File {i+1}: \", fileList[i])"
      ],
      "metadata": {
        "colab": {
          "base_uri": "https://localhost:8080/"
        },
        "id": "1QnfXzVSzuDV",
        "outputId": "7fe7380e-508e-4f6d-b964-9a1563f822bb"
      },
      "execution_count": 8,
      "outputs": [
        {
          "output_type": "stream",
          "name": "stdout",
          "text": [
            "File 1:  Artificial Neural Network\n",
            "File 2:  Regression-using-ANN\n",
            "File 3:  Statistics\n",
            "File 4:  Assignments\n",
            "File 5:  PyTorch\n",
            "File 6:  EDA\n",
            "File 7:  Hackerrank\n"
          ]
        }
      ]
    },
    {
      "cell_type": "markdown",
      "source": [
        "6. Use multiprocessing to create three separate processes. Make each one wait a random number of seconds between one and five, print the current time, and then exit.\n",
        "\n",
        "Answer: To perform multiprocessing in python we need to import multiprocessing package and to print current time we use the datetime module. To make the process wait randomly, we are using random package and time package to make it sleep for the specific seconds."
      ],
      "metadata": {
        "id": "MTc9iSOC4STV"
      }
    },
    {
      "cell_type": "code",
      "source": [
        "import multiprocessing\n",
        "from datetime import datetime\n",
        "import random\n",
        "import time\n",
        "\n",
        "def printTime():\n",
        "  secs = random.randint(1, 5)\n",
        "  time.sleep(secs)\n",
        "  print (datetime.today())\n",
        "\n",
        "p1 = multiprocessing.Process(target=printTime())\n",
        "p2 = multiprocessing.Process(target=printTime())\n",
        "p3 = multiprocessing.Process(target=printTime())\n",
        "\n",
        "p1.start()\n",
        "p2.start()\n",
        "p3.start()\n",
        "\n",
        "p1.join()\n",
        "p2.join()\n",
        "p3.join()\n",
        "\n",
        "print(\"Completed!\")"
      ],
      "metadata": {
        "colab": {
          "base_uri": "https://localhost:8080/"
        },
        "id": "0e73nXVK3AK9",
        "outputId": "024d43cb-60b1-40ad-efe0-b35ee122d9df"
      },
      "execution_count": 20,
      "outputs": [
        {
          "output_type": "stream",
          "name": "stdout",
          "text": [
            "2023-09-01 17:46:17.418695\n",
            "2023-09-01 17:46:19.421543\n",
            "2023-09-01 17:46:24.427700\n",
            "Completed!\n"
          ]
        }
      ]
    },
    {
      "cell_type": "markdown",
      "source": [
        "Explanation: I created 3 individual processes using the multiprocessing.Process method and called the start method to start the execution. The join() method will wait for each process instance to complete it's execution and proceed with the parent process execution. Until the child processes are completed the parent process will be paused."
      ],
      "metadata": {
        "id": "SuJJ69ln3DTc"
      }
    },
    {
      "cell_type": "markdown",
      "source": [
        "7. Create a date object of your day of birth.\n",
        "\n",
        "Answer: Datetime package of python can be used to create a date object. It take year, month and day parameters for the user to mention the data and returns a date object.\n",
        "\n",
        "For example,"
      ],
      "metadata": {
        "id": "lrNfs8lC3jnb"
      }
    },
    {
      "cell_type": "code",
      "source": [
        "import datetime\n",
        "dob = datetime.date(year=1995, month=11, day=7)\n",
        "print(f\"My date of birth is - {dob}\")\n",
        "print(\"Type - \", type(dob))"
      ],
      "metadata": {
        "colab": {
          "base_uri": "https://localhost:8080/"
        },
        "id": "c9kaaIF211mF",
        "outputId": "e519d51a-0a10-4dea-c5a0-1c6cfd97b2df"
      },
      "execution_count": 25,
      "outputs": [
        {
          "output_type": "stream",
          "name": "stdout",
          "text": [
            "My date of birth is - 1995-11-07\n",
            "Type -  <class 'datetime.date'>\n"
          ]
        }
      ]
    },
    {
      "cell_type": "markdown",
      "source": [
        "8. What day of the week was your day of birth?\n",
        "\n",
        "Answer: We can get the day of the week in numbers using the weekday() method[index with 0] and use the calendar package day_name property and pass the day of week in number and get the name of the day."
      ],
      "metadata": {
        "id": "tk9lyK-c4uV4"
      }
    },
    {
      "cell_type": "code",
      "source": [
        "import calendar\n",
        "dayOfWeek = dob.weekday()\n",
        "print(\"Day of the week of my birthday is -\", calendar.day_name[dayOfWeek])"
      ],
      "metadata": {
        "colab": {
          "base_uri": "https://localhost:8080/"
        },
        "id": "r5pMLKqw3y7t",
        "outputId": "d9953c74-7f12-4209-e656-e17824257345"
      },
      "execution_count": 39,
      "outputs": [
        {
          "output_type": "stream",
          "name": "stdout",
          "text": [
            "Day of the week of my birthday is - Tuesday\n"
          ]
        }
      ]
    },
    {
      "cell_type": "markdown",
      "source": [
        "9. When will you be (or when were you) 10,000 days old?\n",
        "\n",
        "Answer: Python provides timedelta from datetime package to manipulate the date object. I'm using the days attribute of the timedelta to add 10000 days to my date of birth to find out the date on which I'm 10000 days old."
      ],
      "metadata": {
        "id": "qMIss7yM6kPH"
      }
    },
    {
      "cell_type": "code",
      "source": [
        "from datetime import timedelta\n",
        "date1 = dob + timedelta(days=10000)\n",
        "print(f\"On {date1} I was 10,000 days old\")"
      ],
      "metadata": {
        "colab": {
          "base_uri": "https://localhost:8080/"
        },
        "id": "6rc7AGJJ5nXd",
        "outputId": "36da2577-a3de-435e-8a98-49cd6447208e"
      },
      "execution_count": 38,
      "outputs": [
        {
          "output_type": "stream",
          "name": "stdout",
          "text": [
            "On 2023-03-25 I was 10,000 days old\n"
          ]
        }
      ]
    }
  ]
}