{
  "nbformat": 4,
  "nbformat_minor": 0,
  "metadata": {
    "colab": {
      "provenance": [],
      "mount_file_id": "1y9O0f1NHYAIb1S9zpWtAZ224L49Ym4S3",
      "authorship_tag": "ABX9TyPuIDO5CrBjaByK/UvfBoBq",
      "include_colab_link": true
    },
    "kernelspec": {
      "name": "python3",
      "display_name": "Python 3"
    },
    "language_info": {
      "name": "python"
    }
  },
  "cells": [
    {
      "cell_type": "markdown",
      "metadata": {
        "id": "view-in-github",
        "colab_type": "text"
      },
      "source": [
        "<a href=\"https://colab.research.google.com/github/pradeep71195/Python-Basics/blob/main/Python_Assignment_11.ipynb\" target=\"_parent\"><img src=\"https://colab.research.google.com/assets/colab-badge.svg\" alt=\"Open In Colab\"/></a>"
      ]
    },
    {
      "cell_type": "markdown",
      "source": [
        "**Assert:** It is keyword that checks if the condition is true or false. If the condition is true, it does nothing and continues the execution. If the condition is false, it throws an AssertionError and stops the execution of the program."
      ],
      "metadata": {
        "id": "SgbNqzp-3_Ow"
      }
    },
    {
      "cell_type": "markdown",
      "source": [
        "1. Create an assert statement that throws an AssertionError if the variable spam is a negative integer."
      ],
      "metadata": {
        "id": "BoXZNR6eJOYd"
      }
    },
    {
      "cell_type": "code",
      "source": [
        "spam = -1\n",
        "assert spam >=0, \"spam cannot be a negative integer\""
      ],
      "metadata": {
        "colab": {
          "base_uri": "https://localhost:8080/",
          "height": 193
        },
        "id": "0CzejlIbJPXq",
        "outputId": "103f1191-7153-43d5-a520-462dbf9a0a85"
      },
      "execution_count": 1,
      "outputs": [
        {
          "output_type": "error",
          "ename": "AssertionError",
          "evalue": "ignored",
          "traceback": [
            "\u001b[0;31m---------------------------------------------------------------------------\u001b[0m",
            "\u001b[0;31mAssertionError\u001b[0m                            Traceback (most recent call last)",
            "\u001b[0;32m<ipython-input-1-4ad3deaa3e2f>\u001b[0m in \u001b[0;36m<cell line: 2>\u001b[0;34m()\u001b[0m\n\u001b[1;32m      1\u001b[0m \u001b[0mspam\u001b[0m \u001b[0;34m=\u001b[0m \u001b[0;34m-\u001b[0m\u001b[0;36m1\u001b[0m\u001b[0;34m\u001b[0m\u001b[0;34m\u001b[0m\u001b[0m\n\u001b[0;32m----> 2\u001b[0;31m \u001b[0;32massert\u001b[0m \u001b[0mspam\u001b[0m \u001b[0;34m>=\u001b[0m\u001b[0;36m0\u001b[0m\u001b[0;34m,\u001b[0m \u001b[0;34m\"spam cannot be a negative integer\"\u001b[0m\u001b[0;34m\u001b[0m\u001b[0;34m\u001b[0m\u001b[0m\n\u001b[0m",
            "\u001b[0;31mAssertionError\u001b[0m: spam cannot be a negative integer"
          ]
        }
      ]
    },
    {
      "cell_type": "code",
      "source": [
        "spam = 1\n",
        "assert spam >=0, \"spam cannot be a negative integer\"\n",
        "print (\"The value of Spam is \", spam)"
      ],
      "metadata": {
        "colab": {
          "base_uri": "https://localhost:8080/"
        },
        "id": "W6VgPObp4oOV",
        "outputId": "47e3e02b-d4b2-46a0-a627-1856f2e361ee"
      },
      "execution_count": 2,
      "outputs": [
        {
          "output_type": "stream",
          "name": "stdout",
          "text": [
            "The value of Spam is  1\n"
          ]
        }
      ]
    },
    {
      "cell_type": "markdown",
      "source": [
        "Explanation: When the spam was assigned with -1, the condition **spam >= 0** it returns **False**, hence an **AssertionError** was thrown with the error message. Whereas when spam was assinged with 1, the condition returns **True** and hence the print statement was executed."
      ],
      "metadata": {
        "id": "uxwlhJj35AFt"
      }
    },
    {
      "cell_type": "markdown",
      "source": [
        "2. Write an assert statement that triggers an AssertionError if the variables eggs and bacon contain strings that are the same as each other, even if their cases are different (that is, 'hello' and 'hello' are considered the same, and 'goodbye' and 'GOODbye' are also considered the same).\n",
        "\n",
        "Answer: To consider both \"goodbye\" and \"GOODbye\" are same. we can convert the case using built-in functions such as upper(), lower(), title() or capitalise() and make them similar internally which then checks on the characters are same are not.\n",
        "\n",
        "For example, using **lower()** the code is below"
      ],
      "metadata": {
        "id": "JiPM0Eq1JlUm"
      }
    },
    {
      "cell_type": "code",
      "source": [
        "eggs:str = \"hello\"\n",
        "bacon:str = \"HELLo\"\n",
        "\n",
        "assert not eggs.lower() == bacon.lower(), \"Both are same\"\n",
        "print(\"Both are not same\")"
      ],
      "metadata": {
        "colab": {
          "base_uri": "https://localhost:8080/",
          "height": 227
        },
        "id": "kWGfn_poJXgx",
        "outputId": "8685d68d-4181-41b1-86f4-9ef80a8efeeb"
      },
      "execution_count": null,
      "outputs": [
        {
          "output_type": "error",
          "ename": "AssertionError",
          "evalue": "ignored",
          "traceback": [
            "\u001b[0;31m---------------------------------------------------------------------------\u001b[0m",
            "\u001b[0;31mAssertionError\u001b[0m                            Traceback (most recent call last)",
            "\u001b[0;32m<ipython-input-6-e09d75a32200>\u001b[0m in \u001b[0;36m<cell line: 4>\u001b[0;34m()\u001b[0m\n\u001b[1;32m      2\u001b[0m \u001b[0mbacon\u001b[0m\u001b[0;34m:\u001b[0m\u001b[0mstr\u001b[0m \u001b[0;34m=\u001b[0m \u001b[0;34m\"HELLo\"\u001b[0m\u001b[0;34m\u001b[0m\u001b[0;34m\u001b[0m\u001b[0m\n\u001b[1;32m      3\u001b[0m \u001b[0;34m\u001b[0m\u001b[0m\n\u001b[0;32m----> 4\u001b[0;31m \u001b[0;32massert\u001b[0m \u001b[0;32mnot\u001b[0m \u001b[0meggs\u001b[0m\u001b[0;34m.\u001b[0m\u001b[0mlower\u001b[0m\u001b[0;34m(\u001b[0m\u001b[0;34m)\u001b[0m \u001b[0;34m==\u001b[0m \u001b[0mbacon\u001b[0m\u001b[0;34m.\u001b[0m\u001b[0mlower\u001b[0m\u001b[0;34m(\u001b[0m\u001b[0;34m)\u001b[0m\u001b[0;34m,\u001b[0m \u001b[0;34m\"Both are same\"\u001b[0m\u001b[0;34m\u001b[0m\u001b[0;34m\u001b[0m\u001b[0m\n\u001b[0m\u001b[1;32m      5\u001b[0m \u001b[0mprint\u001b[0m\u001b[0;34m(\u001b[0m\u001b[0;34m\"Both are not same\"\u001b[0m\u001b[0;34m)\u001b[0m\u001b[0;34m\u001b[0m\u001b[0;34m\u001b[0m\u001b[0m\n",
            "\u001b[0;31mAssertionError\u001b[0m: Both are same"
          ]
        }
      ]
    },
    {
      "cell_type": "markdown",
      "source": [
        "3. Create an assert statement that throws an AssertionError every time.\n",
        "\n",
        "Answer: To create an AssertionError everytime, **we can make use of the assert keyword property that it throws AssertionError when the condition returns False**, hence we can give the condition as False which will always throws AssertionError\n",
        "\n",
        "For example,"
      ],
      "metadata": {
        "id": "gPvaf34mKFv4"
      }
    },
    {
      "cell_type": "code",
      "source": [
        "assert False, \"Throws error always\"\n",
        "print(\"You will never get this printed\")"
      ],
      "metadata": {
        "colab": {
          "base_uri": "https://localhost:8080/",
          "height": 193
        },
        "id": "F01kYR6FJ65V",
        "outputId": "ffea5761-b890-470d-8c3f-35c799f787bf"
      },
      "execution_count": null,
      "outputs": [
        {
          "output_type": "error",
          "ename": "AssertionError",
          "evalue": "ignored",
          "traceback": [
            "\u001b[0;31m---------------------------------------------------------------------------\u001b[0m",
            "\u001b[0;31mAssertionError\u001b[0m                            Traceback (most recent call last)",
            "\u001b[0;32m<ipython-input-7-542dd33c46b0>\u001b[0m in \u001b[0;36m<cell line: 1>\u001b[0;34m()\u001b[0m\n\u001b[0;32m----> 1\u001b[0;31m \u001b[0;32massert\u001b[0m \u001b[0;32mFalse\u001b[0m\u001b[0;34m,\u001b[0m \u001b[0;34m\"Throws error always\"\u001b[0m\u001b[0;34m\u001b[0m\u001b[0;34m\u001b[0m\u001b[0m\n\u001b[0m\u001b[1;32m      2\u001b[0m \u001b[0mprint\u001b[0m\u001b[0;34m(\u001b[0m\u001b[0;34m\"You will never get this printed\"\u001b[0m\u001b[0;34m)\u001b[0m\u001b[0;34m\u001b[0m\u001b[0;34m\u001b[0m\u001b[0m\n",
            "\u001b[0;31mAssertionError\u001b[0m: Throws error always"
          ]
        }
      ]
    },
    {
      "cell_type": "markdown",
      "source": [
        "4. What are the two lines that must be present in your software in order to call logging.debug()?\n",
        "\n",
        "Answer:\n",
        "- The first line - is importing logging package into our program. The logging is a default package present in python we do not need to pip install any new package for this.\n",
        "- The second line - setting a configuration for the log and it's format of logging and also the level it needs to log in the log file."
      ],
      "metadata": {
        "id": "pFRLW8-bKQe9"
      }
    },
    {
      "cell_type": "code",
      "source": [
        "import logging\n",
        "logging.basicConfig(filename=\"example.log\", level=logging.DEBUG, format='%(levelname)s | %(message)s')"
      ],
      "metadata": {
        "id": "UPjEWHOtKN6y"
      },
      "execution_count": null,
      "outputs": []
    },
    {
      "cell_type": "markdown",
      "source": [
        "Explanation: The parameters of basicConfig() methods are,\n",
        "\n",
        "- filename: This is the name of the log file where all the logs will be logged.\n",
        "- level: We have configured the program to capture all the log level from DEBUG and above.\n",
        "- format: Tells the format in which each log has to be logged into the log file each time when an entry is made."
      ],
      "metadata": {
        "id": "2qB098iB7ru_"
      }
    },
    {
      "cell_type": "markdown",
      "source": [
        "5. What are the two lines that your program must have in order to have logging.debug() send a logging message to a file named programLog.txt?"
      ],
      "metadata": {
        "id": "fVJWIhv7KeYr"
      }
    },
    {
      "cell_type": "code",
      "source": [
        "import logging\n",
        "logging.basicConfig(filename=\"programLog.txt\", level=logging.DEBUG, format='%(levelname)s | %(message)s')"
      ],
      "metadata": {
        "id": "FmQr4ECEKfS3"
      },
      "execution_count": null,
      "outputs": []
    },
    {
      "cell_type": "markdown",
      "source": [
        "Explanation: The parameters of basicConfig() methods are,\n",
        "\n",
        "- filename: This is the name of the log file where all the logs will be logged.\n",
        "- level: We have configured the program to capture all the log level from DEBUG and above.\n",
        "- format: Tells the format in which each log has to be logged into the log file each time when an entry is made."
      ],
      "metadata": {
        "id": "kJ35dgjk8-qC"
      }
    },
    {
      "cell_type": "markdown",
      "source": [
        "6. What are the five levels of logging?\n",
        "\n",
        "\n",
        "Answer:\n",
        "  1. \tDEBUG\n",
        "  2.\tINFO\n",
        "  3.\tWARNING\n",
        "  4.\tERROR\n",
        "  5.\tCRITICAL\n"
      ],
      "metadata": {
        "id": "6RRtv3HMKnFL"
      }
    },
    {
      "cell_type": "markdown",
      "source": [
        "7. What line of code would you add to your software to disable all logging messages?\n",
        "\n",
        "Answer: The logging class has a specific method to disable all the logging messages named disabled() which take the level to disable as input.\n",
        "\n",
        "For example,"
      ],
      "metadata": {
        "id": "57w2Is6bKvWL"
      }
    },
    {
      "cell_type": "code",
      "source": [
        "logging.disable(logging.DEBUG)"
      ],
      "metadata": {
        "id": "6W4A16HBKoDF"
      },
      "execution_count": null,
      "outputs": []
    },
    {
      "cell_type": "markdown",
      "source": [
        "8.Why is using logging messages better than using print() to display the same message?\n",
        "\n",
        "Answer:\n",
        "\tLogging records the events and errors during the execution whereas print is used to display information in the console. Logging provides some features like Log levels, custom one time formatting, filtering, etc whereas print does not have any such features. Logging is mainly used for production environments whereas print is used for debugging.\n"
      ],
      "metadata": {
        "id": "n8XMrLxBK24C"
      }
    },
    {
      "cell_type": "markdown",
      "source": [
        "9. What are the differences between the Step Over, Step In, and Step Out buttons in the debugger?\n",
        "\n",
        "Answer:\n",
        "\n",
        "- Step Over –  Executes a scope in one go and moves to the next scope\n",
        "- Step In – Executes the code line-by-line\n",
        "- Step Out – Executes the remaining lines of a code in current scope and moves to higher scope where the scope is returned.\n"
      ],
      "metadata": {
        "id": "cMU5yhECK5q6"
      }
    }
  ]
}