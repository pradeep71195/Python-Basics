{
  "nbformat": 4,
  "nbformat_minor": 0,
  "metadata": {
    "colab": {
      "provenance": [],
      "mount_file_id": "1hupzWKkokxdJeSt1at9ne9AzWbLNKEii",
      "authorship_tag": "ABX9TyNpjKjmCTFPFwIjcWSN1nR0",
      "include_colab_link": true
    },
    "kernelspec": {
      "name": "python3",
      "display_name": "Python 3"
    },
    "language_info": {
      "name": "python"
    }
  },
  "cells": [
    {
      "cell_type": "markdown",
      "metadata": {
        "id": "view-in-github",
        "colab_type": "text"
      },
      "source": [
        "<a href=\"https://colab.research.google.com/github/pradeep71195/Python-Basics/blob/main/Python_Assignment_13.ipynb\" target=\"_parent\"><img src=\"https://colab.research.google.com/assets/colab-badge.svg\" alt=\"Open In Colab\"/></a>"
      ]
    },
    {
      "cell_type": "markdown",
      "source": [
        "1. What advantages do Excel spreadsheets have over CSV spreadsheets?\n",
        "\n",
        "Answer:\n",
        "- Excel spreadsheets are binary files that holds information about all worksheet in a workbook where CSV is a plain text file with values separated by comma.\n",
        "- Excel is easier for the end user to read and understand whereas CSV might look complex.\n",
        "- Formulas can be used in Excel whereas it cannot be used in CSV.\n",
        "- Excel has more features like Charts, Tables, Pivot Tables, graphics, images, links etc but CSV can store only text data.\n",
        "- CSV is used only to store data, but Excel can not only store but also perform operations on those data.\n",
        "- Excel supports different types of data like Date, Currency, Numbers, etc, whereas CSV supports only Text data.\n",
        "- Excel can be integrated with external systems using plugins whereas CSV cannot.\n"
      ],
      "metadata": {
        "id": "mtq6VjPf_SK5"
      }
    },
    {
      "cell_type": "markdown",
      "source": [
        "2.What do you pass to csv.reader() and csv.writer() to create reader and writer objects?\n",
        "\n",
        "Answer:\n",
        "\tWe have to pass the file object returned from the open() method used to open the CSV file\n"
      ],
      "metadata": {
        "id": "rjmLpMLu_eBY"
      }
    },
    {
      "cell_type": "code",
      "source": [
        "import csv\n",
        "with open(‘sample.csv’) as csvFile:\n",
        "\tcsvReadObj = csv.reader(csvFile)\n",
        "\tcsvWriterObj = csv.writer(csvFile)"
      ],
      "metadata": {
        "id": "DYq5vjJH_bMj"
      },
      "execution_count": null,
      "outputs": []
    },
    {
      "cell_type": "markdown",
      "source": [
        "3. What modes do File objects for reader and writer objects need to be opened in?\n",
        "\n",
        "Answer:\n",
        "\n",
        "  For reader the file object must be opened in read mode (‘r’)\n",
        "\n",
        "  For writer the file object must be opened in write mode (‘w’)\n"
      ],
      "metadata": {
        "id": "3hR4J8yS_jQ4"
      }
    },
    {
      "cell_type": "markdown",
      "source": [
        "4. What method takes a list argument and writes it to a CSV file?\n",
        "\n",
        "Answer:\n",
        "\tThe writerow() method takes a list of arguments and writes it to a CSV file\n"
      ],
      "metadata": {
        "id": "_E4yEWCP_ptG"
      }
    },
    {
      "cell_type": "code",
      "source": [
        "csvWriterObj.writerow([‘One’, ‘Two’, ‘Three’])"
      ],
      "metadata": {
        "id": "CxSZ_J50_mO2"
      },
      "execution_count": null,
      "outputs": []
    },
    {
      "cell_type": "markdown",
      "source": [
        "5. What do the keyword arguments delimiter and line terminator do?\n",
        "\n",
        "Answer:\n",
        "\n",
        "  Delimited – is used to separate fields and its default value is comma ‘,’.\n",
        "\n",
        "  Line Terminator – is used to terminate lines produced by the writer and consider that as end-of-line and its default value is ‘\\r\\n’\n"
      ],
      "metadata": {
        "id": "r27UEYxP_vh2"
      }
    },
    {
      "cell_type": "markdown",
      "source": [
        "6. What function takes a string of JSON data and returns a Python data structure?\n",
        "\n",
        "Answer:\n",
        "\tThe method **json.loads()** is used to convert a JSON string to a Python data structure.\n"
      ],
      "metadata": {
        "id": "WnoszBAJ_07R"
      }
    },
    {
      "cell_type": "markdown",
      "source": [
        "7. What function takes a Python data structure and returns a string of JSON data?\n",
        "\n",
        "Answer:\n",
        "\tThe method json.dumps() is used to convert a Python data structure to a JSON string.\n"
      ],
      "metadata": {
        "id": "jUpBaYIo_2-N"
      }
    },
    {
      "cell_type": "code",
      "source": [],
      "metadata": {
        "id": "h6G-LqR-_7DH"
      },
      "execution_count": null,
      "outputs": []
    }
  ]
}